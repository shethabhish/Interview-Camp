{
 "cells": [
  {
   "cell_type": "code",
   "execution_count": 1,
   "metadata": {},
   "outputs": [],
   "source": [
    "def merge_sorted(one,two):\n",
    "    first, second = 0,0\n",
    "    result = [0]*(len(one)+len(two))\n",
    "    index = 0\n",
    "    while first < len(one) and second < len(two):\n",
    "        if one[first] <= two[second]:\n",
    "            result[index] = one[first]\n",
    "            first += 1\n",
    "        else:\n",
    "            result[index] = two[second]\n",
    "            second += 1\n",
    "        index += 1\n",
    "    if first != len(one):\n",
    "        for i in range(index,len(result)):\n",
    "            result[i] = one[first]\n",
    "            first += 1\n",
    "    else:\n",
    "        for i in range(index,len(result)):\n",
    "            result[i] = two[second]\n",
    "            second += 1\n",
    "    return result"
   ]
  },
  {
   "cell_type": "code",
   "execution_count": 2,
   "metadata": {},
   "outputs": [
    {
     "data": {
      "text/plain": [
       "[1, 2, 3, 4, 5, 5, 6, 9, 11, 12]"
      ]
     },
     "execution_count": 2,
     "metadata": {},
     "output_type": "execute_result"
    }
   ],
   "source": [
    "merge_sorted([1,3,4,5],[2,5,6,9,11,12])"
   ]
  }
 ],
 "metadata": {
  "kernelspec": {
   "display_name": "Python 3",
   "language": "python",
   "name": "python3"
  },
  "language_info": {
   "codemirror_mode": {
    "name": "ipython",
    "version": 3
   },
   "file_extension": ".py",
   "mimetype": "text/x-python",
   "name": "python",
   "nbconvert_exporter": "python",
   "pygments_lexer": "ipython3",
   "version": "3.7.6"
  }
 },
 "nbformat": 4,
 "nbformat_minor": 4
}
