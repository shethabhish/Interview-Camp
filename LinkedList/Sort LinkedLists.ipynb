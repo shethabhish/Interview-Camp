{
 "cells": [
  {
   "cell_type": "code",
   "execution_count": 1,
   "metadata": {},
   "outputs": [],
   "source": [
    "class Node:\n",
    "    def __init__(self,val):\n",
    "        self.val = val\n",
    "        self.next = None"
   ]
  },
  {
   "cell_type": "code",
   "execution_count": 2,
   "metadata": {},
   "outputs": [],
   "source": [
    "def sort_ll(head):\n",
    "    zero,one,two = 0,0,0\n",
    "    while head:\n",
    "        if head.val == 0:\n",
    "            zero += 1\n",
    "        elif head.val == 1:\n",
    "            one += 1\n",
    "        else:\n",
    "            two += 1\n",
    "        head = head.next\n",
    "    z,o,t = Node(0),Node(1),Node(2)\n",
    "    l1,l2,l3 = z,o,t\n",
    "    for i in range(zero-1):\n",
    "        z.next = Node(0)\n",
    "        z = z.next\n",
    "    for i in range(one-1):\n",
    "        o.next = Node(1)\n",
    "        o = o.next\n",
    "    for i in range(two-1):\n",
    "        t.next = Node(2)\n",
    "        t = t.next\n",
    "    lone = l1\n",
    "    while l1.next:\n",
    "        l1 = l1.next\n",
    "    l1.next = l2\n",
    "    while l1.next:\n",
    "        l1 = l1.next\n",
    "    l1.next = l3\n",
    "    return lone"
   ]
  },
  {
   "cell_type": "code",
   "execution_count": 3,
   "metadata": {},
   "outputs": [],
   "source": [
    "head = Node(0)\n",
    "head.next = Node(1)\n",
    "head.next.next = Node(2)\n",
    "head.next.next.next = Node(0)\n",
    "head.next.next.next.next = Node(2)\n",
    "head.next.next.next.next.next = Node(0)\n",
    "head.next.next.next.next.next.next = Node(1)\n",
    "head.next.next.next.next.next.next.next = Node(1)\n",
    "head.next.next.next.next.next.next.next.next = Node(2)\n",
    "head.next.next.next.next.next.next.next.next.next = Node(0)"
   ]
  },
  {
   "cell_type": "code",
   "execution_count": 4,
   "metadata": {},
   "outputs": [],
   "source": [
    "x = sort_ll(head)"
   ]
  },
  {
   "cell_type": "code",
   "execution_count": 5,
   "metadata": {},
   "outputs": [],
   "source": [
    "def print_list(head):\n",
    "    while head:\n",
    "        print(head.val, end = \" \")\n",
    "        head = head.next"
   ]
  },
  {
   "cell_type": "code",
   "execution_count": 6,
   "metadata": {},
   "outputs": [
    {
     "name": "stdout",
     "output_type": "stream",
     "text": [
      "0 0 0 0 1 1 1 2 2 2 "
     ]
    }
   ],
   "source": [
    "print_list(x)"
   ]
  }
 ],
 "metadata": {
  "kernelspec": {
   "display_name": "Python 3",
   "language": "python",
   "name": "python3"
  },
  "language_info": {
   "codemirror_mode": {
    "name": "ipython",
    "version": 3
   },
   "file_extension": ".py",
   "mimetype": "text/x-python",
   "name": "python",
   "nbconvert_exporter": "python",
   "pygments_lexer": "ipython3",
   "version": "3.7.6"
  }
 },
 "nbformat": 4,
 "nbformat_minor": 4
}
