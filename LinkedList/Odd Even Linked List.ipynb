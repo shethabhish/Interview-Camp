{
 "cells": [
  {
   "cell_type": "code",
   "execution_count": 1,
   "metadata": {},
   "outputs": [],
   "source": [
    "class Node:\n",
    "    def __init__(self,val):\n",
    "        self.val = val\n",
    "        self.next = None"
   ]
  },
  {
   "cell_type": "code",
   "execution_count": 2,
   "metadata": {},
   "outputs": [],
   "source": [
    "def odd_even(head):\n",
    "    if head is None or head.next is None:\n",
    "        return head\n",
    "    odd,even = None,None\n",
    "    copyodd,copyeven = odd,even\n",
    "    flag1,flag2 = True,True\n",
    "    while head:\n",
    "        if head.val % 2 != 0:\n",
    "            if odd:\n",
    "                odd.next = Node(head.val)\n",
    "                odd = odd.next\n",
    "            else:\n",
    "                odd = Node(head.val)\n",
    "            if flag1:\n",
    "                copyodd = odd\n",
    "                flag1 = False\n",
    "        if head.val % 2 == 0:\n",
    "            if even:\n",
    "                even.next = Node(head.val)\n",
    "                even = even.next\n",
    "            else:\n",
    "                even = Node(head.val)\n",
    "            if flag2:\n",
    "                copyeven = even\n",
    "                flag2 = False\n",
    "        head = head.next\n",
    "    return copyodd,copyeven"
   ]
  },
  {
   "cell_type": "code",
   "execution_count": 3,
   "metadata": {},
   "outputs": [],
   "source": [
    "def print_list(head):\n",
    "    while head:\n",
    "        print(head.val, end = \" \")\n",
    "        head = head.next"
   ]
  },
  {
   "cell_type": "code",
   "execution_count": 4,
   "metadata": {},
   "outputs": [
    {
     "name": "stdout",
     "output_type": "stream",
     "text": [
      "1 3 5 \n",
      "\n",
      "2 4 \n",
      "\n"
     ]
    }
   ],
   "source": [
    "head = Node(1)\n",
    "head.next = Node(2)\n",
    "head.next.next = Node(3)\n",
    "head.next.next.next = Node(4)\n",
    "head.next.next.next.next = Node(5)\n",
    "x = odd_even(head)\n",
    "for i in x:\n",
    "    print_list(i)\n",
    "    print('\\n')"
   ]
  }
 ],
 "metadata": {
  "kernelspec": {
   "display_name": "Python 3",
   "language": "python",
   "name": "python3"
  },
  "language_info": {
   "codemirror_mode": {
    "name": "ipython",
    "version": 3
   },
   "file_extension": ".py",
   "mimetype": "text/x-python",
   "name": "python",
   "nbconvert_exporter": "python",
   "pygments_lexer": "ipython3",
   "version": "3.7.6"
  }
 },
 "nbformat": 4,
 "nbformat_minor": 4
}
