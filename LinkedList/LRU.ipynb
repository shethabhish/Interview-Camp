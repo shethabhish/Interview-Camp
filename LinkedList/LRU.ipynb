{
 "cells": [
  {
   "cell_type": "code",
   "execution_count": 2,
   "metadata": {},
   "outputs": [],
   "source": [
    "class doublell:\n",
    "    def __init__(self):\n",
    "        self.val =0\n",
    "        self.key = 0\n",
    "        self.prev = None\n",
    "        self.next = None"
   ]
  },
  {
   "cell_type": "code",
   "execution_count": 3,
   "metadata": {},
   "outputs": [],
   "source": [
    "class LRUCache:\n",
    "    def __init__(self,capacity):\n",
    "        self.cache = {}\n",
    "        self.size = 0\n",
    "        self.capacity = capacity\n",
    "        self.head,self.tail = doublell(),doublell()\n",
    "        self.head.next = self.tail\n",
    "        self.tail.prev = self.head\n",
    "    def addnode(self,node):\n",
    "        node.prev = self.head\n",
    "        node.next = self.head.next\n",
    "        self.head.next.prev = node\n",
    "        self.head.next = node\n",
    "    def removenode(self,node):\n",
    "        prev = node.prev\n",
    "        new = node.next\n",
    "        prev.next = new\n",
    "        new.prev = prev\n",
    "    def movetohead(self,node):\n",
    "        self.removenode(node)\n",
    "        self.addnode(node)\n",
    "    def poptail(self):\n",
    "        res = self.tail.prev\n",
    "        self.removenode(res)\n",
    "        return res\n",
    "    def get(self,key):\n",
    "        node = self.cache.get(key,None)\n",
    "        if not node:\n",
    "            return -1\n",
    "        self.movetohead(node)\n",
    "    def put(self,key,value):\n",
    "        node = self.cache.get(key)\n",
    "        if not node:\n",
    "            newNode = doublell()\n",
    "            newNode.key = key\n",
    "            newNode.val = val\n",
    "            self.cache[key] = val\n",
    "            self.addnode(newNode)\n",
    "            self.size += 1\n",
    "            if self.size > capcity:\n",
    "                tail = self.poptail()\n",
    "                del self.cache[tail.key]\n",
    "                self.size -= 1\n",
    "        else:\n",
    "            node.val = val\n",
    "            self.movetohead(node)"
   ]
  },
  {
   "cell_type": "code",
   "execution_count": null,
   "metadata": {},
   "outputs": [],
   "source": []
  }
 ],
 "metadata": {
  "kernelspec": {
   "display_name": "Python 3",
   "language": "python",
   "name": "python3"
  },
  "language_info": {
   "codemirror_mode": {
    "name": "ipython",
    "version": 3
   },
   "file_extension": ".py",
   "mimetype": "text/x-python",
   "name": "python",
   "nbconvert_exporter": "python",
   "pygments_lexer": "ipython3",
   "version": "3.7.6"
  }
 },
 "nbformat": 4,
 "nbformat_minor": 4
}
