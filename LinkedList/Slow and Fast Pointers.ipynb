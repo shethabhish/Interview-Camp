{
 "cells": [
  {
   "cell_type": "code",
   "execution_count": 1,
   "metadata": {},
   "outputs": [],
   "source": [
    "class Node:\n",
    "    def __init__(self,val):\n",
    "        self.val = val\n",
    "        self.next = None"
   ]
  },
  {
   "cell_type": "code",
   "execution_count": 2,
   "metadata": {},
   "outputs": [],
   "source": [
    "def cycle(head):\n",
    "    slow,fast = head,head\n",
    "    while fast:\n",
    "        slow = slow.next\n",
    "        fast = fast.next.next\n",
    "        if slow == fast:\n",
    "            return True\n",
    "    return False"
   ]
  },
  {
   "cell_type": "code",
   "execution_count": 3,
   "metadata": {},
   "outputs": [
    {
     "data": {
      "text/plain": [
       "True"
      ]
     },
     "execution_count": 3,
     "metadata": {},
     "output_type": "execute_result"
    }
   ],
   "source": [
    "head = Node(1)\n",
    "head.next = Node(2)\n",
    "head.next.next = Node(3)\n",
    "head.next.next.next = Node(4)\n",
    "head.next.next.next.next = Node(5)\n",
    "head.next.next.next.next.next = head.next.next\n",
    "cycle(head)"
   ]
  },
  {
   "cell_type": "code",
   "execution_count": 4,
   "metadata": {},
   "outputs": [],
   "source": [
    "def cycle_length(head):\n",
    "    slow,fast = head,head\n",
    "    while fast and fast.next:\n",
    "        slow = slow.next\n",
    "        fast = fast.next.next\n",
    "        if slow == fast:\n",
    "            return length(slow)\n",
    "\n",
    "def length(slow):\n",
    "    current = slow\n",
    "    length = 0\n",
    "    while current:\n",
    "        current = current.next\n",
    "        length += 1\n",
    "        if current == slow:\n",
    "            break\n",
    "    return length"
   ]
  },
  {
   "cell_type": "code",
   "execution_count": 5,
   "metadata": {},
   "outputs": [
    {
     "data": {
      "text/plain": [
       "3"
      ]
     },
     "execution_count": 5,
     "metadata": {},
     "output_type": "execute_result"
    }
   ],
   "source": [
    "cycle_length(head)"
   ]
  },
  {
   "cell_type": "code",
   "execution_count": 6,
   "metadata": {},
   "outputs": [],
   "source": [
    "def median(head):\n",
    "    slow,fast = head,head\n",
    "    while fast and fast.next:\n",
    "        slow = slow.next\n",
    "        fast = fast.next.next\n",
    "        if slow == fast:\n",
    "            break\n",
    "    return slow.val"
   ]
  },
  {
   "cell_type": "code",
   "execution_count": 7,
   "metadata": {},
   "outputs": [
    {
     "data": {
      "text/plain": [
       "3"
      ]
     },
     "execution_count": 7,
     "metadata": {},
     "output_type": "execute_result"
    }
   ],
   "source": [
    "head = Node(1)\n",
    "head.next = Node(2)\n",
    "head.next.next = Node(3)\n",
    "head.next.next.next = Node(4)\n",
    "head.next.next.next.next = Node(5)\n",
    "median(head)"
   ]
  },
  {
   "cell_type": "code",
   "execution_count": 8,
   "metadata": {},
   "outputs": [],
   "source": [
    "def cycle_begin(head):\n",
    "    length = cycle_length(head)\n",
    "    return start(head,length)\n",
    "\n",
    "def start(head,length):\n",
    "    pointer1,pointer2 = head,head\n",
    "    for i in range(length):\n",
    "        pointer1 = pointer1.next\n",
    "    while True:\n",
    "        pointer1 = pointer1.next\n",
    "        pointer2 = pointer2.next\n",
    "        if pointer1 == pointer2:\n",
    "            break\n",
    "    return pointer1.val"
   ]
  },
  {
   "cell_type": "code",
   "execution_count": 9,
   "metadata": {},
   "outputs": [
    {
     "data": {
      "text/plain": [
       "3"
      ]
     },
     "execution_count": 9,
     "metadata": {},
     "output_type": "execute_result"
    }
   ],
   "source": [
    "head = Node(1)\n",
    "head.next = Node(2)\n",
    "head.next.next = Node(3)\n",
    "head.next.next.next = Node(4)\n",
    "head.next.next.next.next = Node(5)\n",
    "head.next.next.next.next.next = head.next.next\n",
    "cycle_begin(head)"
   ]
  }
 ],
 "metadata": {
  "kernelspec": {
   "display_name": "Python 3",
   "language": "python",
   "name": "python3"
  },
  "language_info": {
   "codemirror_mode": {
    "name": "ipython",
    "version": 3
   },
   "file_extension": ".py",
   "mimetype": "text/x-python",
   "name": "python",
   "nbconvert_exporter": "python",
   "pygments_lexer": "ipython3",
   "version": "3.7.6"
  }
 },
 "nbformat": 4,
 "nbformat_minor": 4
}
