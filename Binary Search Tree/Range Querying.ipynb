{
 "cells": [
  {
   "cell_type": "code",
   "execution_count": 1,
   "metadata": {},
   "outputs": [],
   "source": [
    "class Tree:\n",
    "    def __init__(self,val):\n",
    "        self.val = val\n",
    "        self.left = None\n",
    "        self.right = None"
   ]
  },
  {
   "cell_type": "code",
   "execution_count": 2,
   "metadata": {},
   "outputs": [],
   "source": [
    "def bst_range(root, intervals):\n",
    "    result = []\n",
    "    inorder(root, intervals, result)\n",
    "    return result"
   ]
  },
  {
   "cell_type": "code",
   "execution_count": 3,
   "metadata": {},
   "outputs": [],
   "source": [
    "def inorder(root, intervals, result):\n",
    "    if root:\n",
    "        inorder(root.left, intervals, result)\n",
    "        if root.val >= intervals[0] and root.val <= intervals[1]:\n",
    "            result.append(root.val)\n",
    "        inorder(root.right, intervals, result)"
   ]
  },
  {
   "cell_type": "code",
   "execution_count": 4,
   "metadata": {},
   "outputs": [],
   "source": [
    "root = Tree(8)\n",
    "root.left = Tree(3)\n",
    "root.right = Tree(10)\n",
    "root.left.left = Tree(1)\n",
    "root.left.right = Tree(6)\n",
    "root.right.right = Tree(14)\n",
    "root.left.right.left = Tree(4)\n",
    "root.left.right.right = Tree(7)\n",
    "root.right.right.left = Tree(14)"
   ]
  },
  {
   "cell_type": "code",
   "execution_count": 5,
   "metadata": {},
   "outputs": [
    {
     "data": {
      "text/plain": [
       "[6, 7, 8]"
      ]
     },
     "execution_count": 5,
     "metadata": {},
     "output_type": "execute_result"
    }
   ],
   "source": [
    "bst_range(root, [5,8])"
   ]
  }
 ],
 "metadata": {
  "kernelspec": {
   "display_name": "Python 3",
   "language": "python",
   "name": "python3"
  },
  "language_info": {
   "codemirror_mode": {
    "name": "ipython",
    "version": 3
   },
   "file_extension": ".py",
   "mimetype": "text/x-python",
   "name": "python",
   "nbconvert_exporter": "python",
   "pygments_lexer": "ipython3",
   "version": "3.7.6"
  }
 },
 "nbformat": 4,
 "nbformat_minor": 4
}
