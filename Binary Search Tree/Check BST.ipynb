{
 "cells": [
  {
   "cell_type": "code",
   "execution_count": 1,
   "metadata": {},
   "outputs": [],
   "source": [
    "class Tree:\n",
    "    def __init__(self, val):\n",
    "        self.val = val\n",
    "        self.left = None\n",
    "        self.right = None"
   ]
  },
  {
   "cell_type": "code",
   "execution_count": 2,
   "metadata": {},
   "outputs": [],
   "source": [
    "def is_bst(root, mini, maxi):\n",
    "    if root == None:\n",
    "        return 1\n",
    "    if root.val < mini:\n",
    "        return 0\n",
    "    if root.val > maxi:\n",
    "        return 0\n",
    "    return is_bst(root.right, root.val, maxi) and is_bst(root.left, mini, root.val)"
   ]
  },
  {
   "cell_type": "code",
   "execution_count": 3,
   "metadata": {},
   "outputs": [],
   "source": [
    "import sys\n",
    "root = Tree(6) \n",
    "root.left = Tree(3) \n",
    "root.right = Tree(9) \n",
    "root.left.left = Tree(1) \n",
    "root.left.right = Tree(5) \n",
    "root.right.left = Tree(7)\n",
    "root.right.right = Tree(11)\n",
    "mini = -sys.maxsize - 1\n",
    "maxi = sys.maxsize"
   ]
  },
  {
   "cell_type": "code",
   "execution_count": 4,
   "metadata": {},
   "outputs": [
    {
     "data": {
      "text/plain": [
       "True"
      ]
     },
     "execution_count": 4,
     "metadata": {},
     "output_type": "execute_result"
    }
   ],
   "source": [
    "is_bst(root, mini, maxi) == 1"
   ]
  }
 ],
 "metadata": {
  "kernelspec": {
   "display_name": "Python 3",
   "language": "python",
   "name": "python3"
  },
  "language_info": {
   "codemirror_mode": {
    "name": "ipython",
    "version": 3
   },
   "file_extension": ".py",
   "mimetype": "text/x-python",
   "name": "python",
   "nbconvert_exporter": "python",
   "pygments_lexer": "ipython3",
   "version": "3.7.6"
  }
 },
 "nbformat": 4,
 "nbformat_minor": 4
}
