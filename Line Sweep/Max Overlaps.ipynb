{
 "cells": [
  {
   "cell_type": "code",
   "execution_count": 1,
   "metadata": {},
   "outputs": [],
   "source": [
    "def max_overlaps(intervals):\n",
    "    intervals.sort(key = lambda x : x[0])\n",
    "    maxi = 0\n",
    "    result = [1] * len(intervals)\n",
    "    for i in range(len(intervals)-1):\n",
    "        count = 1\n",
    "        for j in range(i+1,len(intervals)):\n",
    "            if intervals[j][0] < intervals[i][1] and intervals[j][1] > intervals[i][0]:\n",
    "                count += 1\n",
    "                maxi = max(maxi,count)\n",
    "    return intervals,maxi"
   ]
  },
  {
   "cell_type": "code",
   "execution_count": 2,
   "metadata": {},
   "outputs": [
    {
     "data": {
      "text/plain": [
       "([[1, 3], [2, 4], [3, 7], [4, 6], [5, 6]], 3)"
      ]
     },
     "execution_count": 2,
     "metadata": {},
     "output_type": "execute_result"
    }
   ],
   "source": [
    "max_overlaps([[1,3],[2,4],[3,7],[4,6],[5,6]])"
   ]
  }
 ],
 "metadata": {
  "kernelspec": {
   "display_name": "Python 3",
   "language": "python",
   "name": "python3"
  },
  "language_info": {
   "codemirror_mode": {
    "name": "ipython",
    "version": 3
   },
   "file_extension": ".py",
   "mimetype": "text/x-python",
   "name": "python",
   "nbconvert_exporter": "python",
   "pygments_lexer": "ipython3",
   "version": "3.7.6"
  }
 },
 "nbformat": 4,
 "nbformat_minor": 4
}
