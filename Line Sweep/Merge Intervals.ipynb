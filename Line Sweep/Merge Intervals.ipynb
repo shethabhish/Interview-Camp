{
 "cells": [
  {
   "cell_type": "code",
   "execution_count": 1,
   "metadata": {},
   "outputs": [],
   "source": [
    "def merge_intervals(intervals):\n",
    "    i = 1\n",
    "    intervals.sort(key = lambda x: x[0])\n",
    "    while i < len(intervals):\n",
    "        if intervals[i-1][1] >= intervals[i][0]:\n",
    "            intervals[i-1][0] = min(intervals[i-1][0],intervals[i][0])\n",
    "            intervals[i-1][1] = max(intervals[i-1][1],intervals[i][1])\n",
    "            intervals.pop(i)\n",
    "        else:\n",
    "            i += 1\n",
    "    return intervals"
   ]
  },
  {
   "cell_type": "code",
   "execution_count": 2,
   "metadata": {},
   "outputs": [
    {
     "data": {
      "text/plain": [
       "[[1, 5], [6, 9]]"
      ]
     },
     "execution_count": 2,
     "metadata": {},
     "output_type": "execute_result"
    }
   ],
   "source": [
    "merge_intervals([[1,3],[3,5],[6,8],[7,9]])"
   ]
  }
 ],
 "metadata": {
  "kernelspec": {
   "display_name": "Python 3",
   "language": "python",
   "name": "python3"
  },
  "language_info": {
   "codemirror_mode": {
    "name": "ipython",
    "version": 3
   },
   "file_extension": ".py",
   "mimetype": "text/x-python",
   "name": "python",
   "nbconvert_exporter": "python",
   "pygments_lexer": "ipython3",
   "version": "3.7.6"
  }
 },
 "nbformat": 4,
 "nbformat_minor": 4
}
