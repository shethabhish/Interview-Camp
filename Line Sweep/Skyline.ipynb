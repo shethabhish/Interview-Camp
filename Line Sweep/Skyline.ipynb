{
 "cells": [
  {
   "cell_type": "code",
   "execution_count": 1,
   "metadata": {},
   "outputs": [],
   "source": [
    "from collections import *\n",
    "from heapq import *\n",
    "def getSkylines(buildings):\n",
    "    changes = defaultdict(list)\n",
    "    for l,r,h in buildings:\n",
    "        changes[l] += [-h]\n",
    "        changes[r] += [h]\n",
    "    heights,height_ctr = [0], Counter([0])\n",
    "    skyline = []\n",
    "    for x,changes in sorted(changes.items()):\n",
    "        for h in changes:\n",
    "            if h < 0:\n",
    "                heappush(heights,h)\n",
    "                height_ctr[h] += 1\n",
    "            else:\n",
    "                height_ctr[-h] -= 1\n",
    "        while not height_ctr[heights[0]]:\n",
    "            heappop(heights)\n",
    "        height = -heights[0]\n",
    "        if not skyline or height != skyline[-1][1]:\n",
    "            skyline += [[x,height]]\n",
    "    return skyline"
   ]
  },
  {
   "cell_type": "code",
   "execution_count": 2,
   "metadata": {},
   "outputs": [
    {
     "data": {
      "text/plain": [
       "[[2, 10], [3, 15], [7, 12], [12, 0], [15, 10], [20, 8], [24, 0]]"
      ]
     },
     "execution_count": 2,
     "metadata": {},
     "output_type": "execute_result"
    }
   ],
   "source": [
    "getSkylines([[2,9,10],[3,7,15],[5,12,12],[15,20,10],[19,24,8]] )"
   ]
  }
 ],
 "metadata": {
  "kernelspec": {
   "display_name": "Python 3",
   "language": "python",
   "name": "python3"
  },
  "language_info": {
   "codemirror_mode": {
    "name": "ipython",
    "version": 3
   },
   "file_extension": ".py",
   "mimetype": "text/x-python",
   "name": "python",
   "nbconvert_exporter": "python",
   "pygments_lexer": "ipython3",
   "version": "3.7.6"
  }
 },
 "nbformat": 4,
 "nbformat_minor": 4
}
