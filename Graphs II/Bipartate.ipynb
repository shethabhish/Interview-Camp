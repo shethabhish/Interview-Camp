{
 "cells": [
  {
   "cell_type": "code",
   "execution_count": 1,
   "metadata": {},
   "outputs": [],
   "source": [
    "def bipartate(graph):\n",
    "    color = {}\n",
    "    for node in range(len(graph)):\n",
    "        if node not in color:\n",
    "            stack = [node]\n",
    "            color[node] = 0\n",
    "            while stack:\n",
    "                node = stack.pop()\n",
    "                for neighbour in graph[node]:\n",
    "                    if neighbour not in color:\n",
    "                        stack.append(neighbour)\n",
    "                        color[neighbour] = color[node]^1\n",
    "                    elif color[neighbour] == color[node]:\n",
    "                        return False\n",
    "    return True"
   ]
  },
  {
   "cell_type": "code",
   "execution_count": 2,
   "metadata": {},
   "outputs": [
    {
     "data": {
      "text/plain": [
       "True"
      ]
     },
     "execution_count": 2,
     "metadata": {},
     "output_type": "execute_result"
    }
   ],
   "source": [
    "bipartate([[1,3],[0,2],[1,3],[0,2]])"
   ]
  }
 ],
 "metadata": {
  "kernelspec": {
   "display_name": "Python 3",
   "language": "python",
   "name": "python3"
  },
  "language_info": {
   "codemirror_mode": {
    "name": "ipython",
    "version": 3
   },
   "file_extension": ".py",
   "mimetype": "text/x-python",
   "name": "python",
   "nbconvert_exporter": "python",
   "pygments_lexer": "ipython3",
   "version": "3.7.6"
  }
 },
 "nbformat": 4,
 "nbformat_minor": 4
}
