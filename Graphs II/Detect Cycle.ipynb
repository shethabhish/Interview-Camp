{
 "cells": [
  {
   "cell_type": "code",
   "execution_count": 1,
   "metadata": {},
   "outputs": [],
   "source": [
    "from collections import defaultdict\n",
    "class Graph:\n",
    "    def __init__(self,vertices):\n",
    "        self.graph = defaultdict(list)\n",
    "        self.vertices = vertices\n",
    "    def addEdge(self,u,v):\n",
    "        self.graph[u].append(v)\n",
    "    def isCyclicUtil(self,vertices,visited,recStack):\n",
    "        visited[vertices] = True\n",
    "        recStack[vertices] = True\n",
    "        for neighbour in self.graph[vertices]:\n",
    "            if not visited[neighbour]:\n",
    "                if self.isCyclicUtil(neighbour, visited, recStack):\n",
    "                    return True\n",
    "            elif recStack[neighbour]:\n",
    "                return True\n",
    "        recStack[vertices] = False\n",
    "        return False\n",
    "    def isCyclic(self):\n",
    "        visited = [False] * self.vertices\n",
    "        recStack = [False] * self.vertices\n",
    "        for node in range(self.vertices):\n",
    "            if not visited[node]:\n",
    "                if self.isCyclicUtil(node,visited,recStack):\n",
    "                    return True\n",
    "        return False"
   ]
  },
  {
   "cell_type": "code",
   "execution_count": 2,
   "metadata": {},
   "outputs": [
    {
     "data": {
      "text/plain": [
       "True"
      ]
     },
     "execution_count": 2,
     "metadata": {},
     "output_type": "execute_result"
    }
   ],
   "source": [
    "g = Graph(4) \n",
    "g.addEdge(0, 1) \n",
    "g.addEdge(0, 2) \n",
    "g.addEdge(1, 2) \n",
    "g.addEdge(2, 0) \n",
    "g.addEdge(2, 3) \n",
    "g.addEdge(3, 3)\n",
    "g.isCyclic()"
   ]
  }
 ],
 "metadata": {
  "kernelspec": {
   "display_name": "Python 3",
   "language": "python",
   "name": "python3"
  },
  "language_info": {
   "codemirror_mode": {
    "name": "ipython",
    "version": 3
   },
   "file_extension": ".py",
   "mimetype": "text/x-python",
   "name": "python",
   "nbconvert_exporter": "python",
   "pygments_lexer": "ipython3",
   "version": "3.7.6"
  }
 },
 "nbformat": 4,
 "nbformat_minor": 4
}
