{
 "cells": [
  {
   "cell_type": "code",
   "execution_count": 1,
   "metadata": {},
   "outputs": [],
   "source": [
    "class Graph:\n",
    "    def __init__(self, vertices):\n",
    "        self.vertices = vertices\n",
    "        self.graph = [[] for i in range(vertices)]\n",
    "    def add_edge(self,u,v):\n",
    "        self.graph[u].append(v)\n",
    "        self.graph[v].append(u)\n",
    "    def connected_component(self):\n",
    "        visited = [False]*self.vertices\n",
    "        cc = []\n",
    "        for i in range(self.vertices):\n",
    "            if not visited[i]:\n",
    "                temp = []\n",
    "                cc.append(self.DFSUtil(temp,i,visited))\n",
    "        return cc\n",
    "    def DFSUtil(self, temp, v, visited):\n",
    "        visited[v] = True\n",
    "        temp.append(v)\n",
    "        for i in self.graph[v]:\n",
    "            if not visited[i]:\n",
    "                temp = self.DFSUtil(temp,i,visited)\n",
    "        return temp"
   ]
  },
  {
   "cell_type": "code",
   "execution_count": 2,
   "metadata": {},
   "outputs": [
    {
     "data": {
      "text/plain": [
       "[[0, 1], [2, 3, 4]]"
      ]
     },
     "execution_count": 2,
     "metadata": {},
     "output_type": "execute_result"
    }
   ],
   "source": [
    "g = Graph(5)\n",
    "g.add_edge(1, 0)\n",
    "g.add_edge(2, 3)\n",
    "g.add_edge(3, 4)\n",
    "g.connected_component()"
   ]
  }
 ],
 "metadata": {
  "kernelspec": {
   "display_name": "Python 3",
   "language": "python",
   "name": "python3"
  },
  "language_info": {
   "codemirror_mode": {
    "name": "ipython",
    "version": 3
   },
   "file_extension": ".py",
   "mimetype": "text/x-python",
   "name": "python",
   "nbconvert_exporter": "python",
   "pygments_lexer": "ipython3",
   "version": "3.7.6"
  }
 },
 "nbformat": 4,
 "nbformat_minor": 4
}
