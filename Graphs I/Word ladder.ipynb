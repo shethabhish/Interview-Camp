{
 "cells": [
  {
   "cell_type": "code",
   "execution_count": 1,
   "metadata": {},
   "outputs": [],
   "source": [
    "from collections import defaultdict,deque\n",
    "def word_ladder(start,end,dictionary):\n",
    "    if len(start) != len(end) or end not in dictionary:\n",
    "        return 0\n",
    "    all_combo = defaultdict(list)\n",
    "    for word in dictionary:\n",
    "        for i in range(len(start)):\n",
    "            all_combo[word[:i]+\"*\"+word[i+1:]].append(word)\n",
    "    queue = deque([(start,1)])\n",
    "    visited = {start: True}\n",
    "    while queue:\n",
    "        current,level = queue.popleft()\n",
    "        for i in range(len(start)):\n",
    "            word = current[:i]+ \"*\" + current[i+1:]\n",
    "            for i in all_combo[word]:\n",
    "                if i == end:\n",
    "                    return level+1\n",
    "                if i not in visited:\n",
    "                    visited[i] = True\n",
    "                    queue.append((i, level+1))\n",
    "            all_combo[word] = []\n",
    "    return 0"
   ]
  },
  {
   "cell_type": "code",
   "execution_count": 2,
   "metadata": {},
   "outputs": [
    {
     "data": {
      "text/plain": [
       "5"
      ]
     },
     "execution_count": 2,
     "metadata": {},
     "output_type": "execute_result"
    }
   ],
   "source": [
    "word_ladder('hit','cog',[\"hot\",\"dot\",\"dog\",\"lot\",\"log\",\"cog\"])"
   ]
  }
 ],
 "metadata": {
  "kernelspec": {
   "display_name": "Python 3",
   "language": "python",
   "name": "python3"
  },
  "language_info": {
   "codemirror_mode": {
    "name": "ipython",
    "version": 3
   },
   "file_extension": ".py",
   "mimetype": "text/x-python",
   "name": "python",
   "nbconvert_exporter": "python",
   "pygments_lexer": "ipython3",
   "version": "3.7.6"
  }
 },
 "nbformat": 4,
 "nbformat_minor": 4
}
