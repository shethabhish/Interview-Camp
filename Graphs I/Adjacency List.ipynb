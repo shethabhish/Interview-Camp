{
 "cells": [
  {
   "cell_type": "code",
   "execution_count": 1,
   "metadata": {},
   "outputs": [],
   "source": [
    "class Node:\n",
    "    def __init__(self,data):\n",
    "        self.data = data\n",
    "        self.next = None"
   ]
  },
  {
   "cell_type": "code",
   "execution_count": 2,
   "metadata": {},
   "outputs": [],
   "source": [
    "class Graph:\n",
    "    def __init__(self,vertices):\n",
    "        self.vertices = vertices\n",
    "        self.graph = [None]*vertices\n",
    "    def add_edge(self,src,dest):\n",
    "        node = Node(dest)\n",
    "        node.next = self.graph[src]\n",
    "        self.graph[src] = node\n",
    "        node = Node(src)\n",
    "        node.next = self.graph[dest]\n",
    "        self.graph[dest] = node\n",
    "    def print_graph(self): \n",
    "        for i in range(self.vertices): \n",
    "            temp = self.graph[i] \n",
    "            print(\"head\",end=\"\")\n",
    "            while temp: \n",
    "                print(\" -> {}\".format(temp.data), end=\"\") \n",
    "                temp = temp.next\n",
    "            print(\" \\n\") "
   ]
  },
  {
   "cell_type": "code",
   "execution_count": 3,
   "metadata": {},
   "outputs": [
    {
     "name": "stdout",
     "output_type": "stream",
     "text": [
      "head -> 4 -> 1 \n",
      "\n",
      "head -> 4 -> 3 -> 2 -> 0 \n",
      "\n",
      "head -> 3 -> 1 \n",
      "\n",
      "head -> 4 -> 2 -> 1 \n",
      "\n",
      "head -> 3 -> 1 -> 0 \n",
      "\n"
     ]
    }
   ],
   "source": [
    "graph = Graph(5) \n",
    "graph.add_edge(0, 1) \n",
    "graph.add_edge(0, 4) \n",
    "graph.add_edge(1, 2) \n",
    "graph.add_edge(1, 3) \n",
    "graph.add_edge(1, 4) \n",
    "graph.add_edge(2, 3) \n",
    "graph.add_edge(3, 4) \n",
    "graph.print_graph() "
   ]
  }
 ],
 "metadata": {
  "kernelspec": {
   "display_name": "Python 3",
   "language": "python",
   "name": "python3"
  },
  "language_info": {
   "codemirror_mode": {
    "name": "ipython",
    "version": 3
   },
   "file_extension": ".py",
   "mimetype": "text/x-python",
   "name": "python",
   "nbconvert_exporter": "python",
   "pygments_lexer": "ipython3",
   "version": "3.7.6"
  }
 },
 "nbformat": 4,
 "nbformat_minor": 4
}
