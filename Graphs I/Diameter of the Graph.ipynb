{
 "cells": [
  {
   "cell_type": "code",
   "execution_count": 1,
   "metadata": {},
   "outputs": [],
   "source": [
    "def findLongestPath(n,adj):\n",
    "    visited = [False]*(n+1)\n",
    "    dp = [0]*(n+1)\n",
    "    for i in range(1,n+1):\n",
    "        if not visited[i]:\n",
    "            dfs(i,adj,visited,dp)\n",
    "    ans = 0\n",
    "    for i in range(1,n+1):\n",
    "        ans = max(ans,dp[i])\n",
    "    return ans"
   ]
  },
  {
   "cell_type": "code",
   "execution_count": 2,
   "metadata": {},
   "outputs": [],
   "source": [
    "def dfs(node,adj,visited,dp):\n",
    "    visited[node] = True\n",
    "    for i in range(0,len(adj[node])):\n",
    "        if not visited[adj[node][i]]:\n",
    "            dfs(adj[node][i],adj,visited,dp)\n",
    "        dp[node] = max(dp[node],1+dp[adj[node][i]])"
   ]
  },
  {
   "cell_type": "code",
   "execution_count": 3,
   "metadata": {},
   "outputs": [
    {
     "data": {
      "text/plain": [
       "3"
      ]
     },
     "execution_count": 3,
     "metadata": {},
     "output_type": "execute_result"
    }
   ],
   "source": [
    "findLongestPath(5,[[], [2, 3], [4], [2, 4], [], []])"
   ]
  }
 ],
 "metadata": {
  "kernelspec": {
   "display_name": "Python 3",
   "language": "python",
   "name": "python3"
  },
  "language_info": {
   "codemirror_mode": {
    "name": "ipython",
    "version": 3
   },
   "file_extension": ".py",
   "mimetype": "text/x-python",
   "name": "python",
   "nbconvert_exporter": "python",
   "pygments_lexer": "ipython3",
   "version": "3.7.6"
  }
 },
 "nbformat": 4,
 "nbformat_minor": 4
}
