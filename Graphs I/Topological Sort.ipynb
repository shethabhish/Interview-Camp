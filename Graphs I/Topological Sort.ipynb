{
 "cells": [
  {
   "cell_type": "code",
   "execution_count": 1,
   "metadata": {},
   "outputs": [],
   "source": [
    "from collections import defaultdict\n",
    "class Graph:\n",
    "    def __init__(self,vertices):\n",
    "        self.graph = defaultdict(list)\n",
    "        self.vertices = vertices\n",
    "    def addEdge(self,u,v):\n",
    "        self.graph[u].append(v)\n",
    "    def topologicalSortUtil(self,v,visited,stack):\n",
    "        visited[v] = True\n",
    "        for i in self.graph[v]:\n",
    "            if not visited[i]:\n",
    "                self.topologicalSortUtil(i,visited,stack)\n",
    "        stack.insert(0,v)\n",
    "    def topologicalSort(self):\n",
    "        visited = [False]*self.vertices\n",
    "        stack = []\n",
    "        for i in range(self.vertices):\n",
    "            if not visited[i]:\n",
    "                self.topologicalSortUtil(i,visited,stack)\n",
    "        print(stack)"
   ]
  },
  {
   "cell_type": "code",
   "execution_count": 2,
   "metadata": {},
   "outputs": [
    {
     "name": "stdout",
     "output_type": "stream",
     "text": [
      "[5, 4, 2, 3, 1, 0]\n"
     ]
    }
   ],
   "source": [
    "g= Graph(6) \n",
    "g.addEdge(5, 2) \n",
    "g.addEdge(5, 0) \n",
    "g.addEdge(4, 0) \n",
    "g.addEdge(4, 1) \n",
    "g.addEdge(2, 3)\n",
    "g.addEdge(3, 1)\n",
    "g.topologicalSort()"
   ]
  }
 ],
 "metadata": {
  "kernelspec": {
   "display_name": "Python 3",
   "language": "python",
   "name": "python3"
  },
  "language_info": {
   "codemirror_mode": {
    "name": "ipython",
    "version": 3
   },
   "file_extension": ".py",
   "mimetype": "text/x-python",
   "name": "python",
   "nbconvert_exporter": "python",
   "pygments_lexer": "ipython3",
   "version": "3.7.6"
  }
 },
 "nbformat": 4,
 "nbformat_minor": 4
}
