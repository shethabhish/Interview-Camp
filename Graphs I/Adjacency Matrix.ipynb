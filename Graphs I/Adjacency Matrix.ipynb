{
 "cells": [
  {
   "cell_type": "code",
   "execution_count": 1,
   "metadata": {},
   "outputs": [],
   "source": [
    "class Graph:\n",
    "    def __init__(self,vertices):\n",
    "        self.vertices = vertices\n",
    "        self.matrix = [[0 for i in range(vertices+1)] for j in range(vertices+1)]\n",
    "    def add_edge(self,src,dest):\n",
    "        if self.matrix[src][dest] == 1 and  self.matrix[dest][src] == 1:\n",
    "            return \"Path exists\"\n",
    "        else:\n",
    "            self.matrix[src][dest] = 1\n",
    "            self.matrix[dest][src] = 1\n",
    "    def remove_edge(self):\n",
    "        if self.matrix[src][dest] == 0 and  self.matrix[dest][src] == 0:\n",
    "            return \"Path doesn't exists\"\n",
    "        else:\n",
    "            self.matrix[src][dest] = 0\n",
    "            self.matrix[dest][src] = 0\n",
    "    def print_graph(self):\n",
    "        return self.matrix"
   ]
  },
  {
   "cell_type": "code",
   "execution_count": 2,
   "metadata": {},
   "outputs": [
    {
     "data": {
      "text/plain": [
       "[[0, 1, 0, 0, 1],\n",
       " [1, 0, 1, 1, 1],\n",
       " [0, 1, 0, 1, 0],\n",
       " [0, 1, 1, 0, 1],\n",
       " [1, 1, 0, 1, 0]]"
      ]
     },
     "execution_count": 2,
     "metadata": {},
     "output_type": "execute_result"
    }
   ],
   "source": [
    "graph = Graph(4)\n",
    "graph.add_edge(0,1)\n",
    "graph.add_edge(0, 4) \n",
    "graph.add_edge(1, 2) \n",
    "graph.add_edge(1, 3) \n",
    "graph.add_edge(1, 4) \n",
    "graph.add_edge(2, 3) \n",
    "graph.add_edge(3, 4)\n",
    "graph.print_graph() "
   ]
  }
 ],
 "metadata": {
  "kernelspec": {
   "display_name": "Python 3",
   "language": "python",
   "name": "python3"
  },
  "language_info": {
   "codemirror_mode": {
    "name": "ipython",
    "version": 3
   },
   "file_extension": ".py",
   "mimetype": "text/x-python",
   "name": "python",
   "nbconvert_exporter": "python",
   "pygments_lexer": "ipython3",
   "version": "3.7.6"
  }
 },
 "nbformat": 4,
 "nbformat_minor": 4
}
