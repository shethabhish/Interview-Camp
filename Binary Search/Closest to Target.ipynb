{
 "cells": [
  {
   "cell_type": "code",
   "execution_count": 1,
   "metadata": {},
   "outputs": [],
   "source": [
    "def closest(arr,key):\n",
    "    start,end = 0,len(arr) - 1\n",
    "    if key < arr[start]:\n",
    "        return arr[start]\n",
    "    if key > arr[end]:\n",
    "        return arr[end]\n",
    "    while start <= end:\n",
    "        mid = start + (end - start)//2\n",
    "        if key < arr[mid]:\n",
    "            end = mid - 1\n",
    "        elif key > arr[mid]:\n",
    "            start = mid + 1\n",
    "        else:\n",
    "            return arr[mid]\n",
    "    if arr[start] - key < key - arr[end]:\n",
    "        return arr[start]\n",
    "    return arr[end]"
   ]
  },
  {
   "cell_type": "code",
   "execution_count": 2,
   "metadata": {},
   "outputs": [
    {
     "data": {
      "text/plain": [
       "8"
      ]
     },
     "execution_count": 2,
     "metadata": {},
     "output_type": "execute_result"
    }
   ],
   "source": [
    "closest([2,3,5,8,9,11],7)"
   ]
  }
 ],
 "metadata": {
  "kernelspec": {
   "display_name": "Python 3",
   "language": "python",
   "name": "python3"
  },
  "language_info": {
   "codemirror_mode": {
    "name": "ipython",
    "version": 3
   },
   "file_extension": ".py",
   "mimetype": "text/x-python",
   "name": "python",
   "nbconvert_exporter": "python",
   "pygments_lexer": "ipython3",
   "version": "3.7.6"
  }
 },
 "nbformat": 4,
 "nbformat_minor": 4
}
