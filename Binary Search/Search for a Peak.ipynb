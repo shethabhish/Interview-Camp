{
 "cells": [
  {
   "cell_type": "code",
   "execution_count": 1,
   "metadata": {},
   "outputs": [],
   "source": [
    "def peak(arr):\n",
    "    if len(arr) == 0:\n",
    "        return -1\n",
    "    start,end = 0,len(arr)-1\n",
    "    while start < end:\n",
    "        mid = start + (end - start)//2\n",
    "        if mid == 0:\n",
    "            left,right = -float('inf'),arr[mid+1]\n",
    "        elif mid == len(arr) - 1:\n",
    "            left,right = arr[mid-1],float('inf')\n",
    "        else:\n",
    "            left,right = arr[mid-1],arr[mid+1]\n",
    "        if left < arr[mid] and arr[mid] < right:\n",
    "            start = mid + 1\n",
    "        elif left > arr[mid] and arr[mid] > right:\n",
    "            end = mid - 1\n",
    "        elif left > arr[mid] and arr[mid] < right:\n",
    "            end = mid-1\n",
    "        else:\n",
    "            return arr[mid]\n",
    "    return -1"
   ]
  },
  {
   "cell_type": "code",
   "execution_count": 2,
   "metadata": {},
   "outputs": [
    {
     "data": {
      "text/plain": [
       "5"
      ]
     },
     "execution_count": 2,
     "metadata": {},
     "output_type": "execute_result"
    }
   ],
   "source": [
    "peak([1,3,4,5,2])"
   ]
  },
  {
   "cell_type": "code",
   "execution_count": 3,
   "metadata": {},
   "outputs": [],
   "source": [
    "def peak(arr):\n",
    "    if len(arr) == 0:\n",
    "        return -1\n",
    "    start,end = 0,len(arr)-1\n",
    "    while start < end:\n",
    "        mid = start + (end - start)//2\n",
    "        if arr[mid] > arr[mid+1]:\n",
    "            end = mid\n",
    "        else:\n",
    "            start = mid + 1\n",
    "    return arr[start]"
   ]
  },
  {
   "cell_type": "code",
   "execution_count": 4,
   "metadata": {},
   "outputs": [
    {
     "data": {
      "text/plain": [
       "5"
      ]
     },
     "execution_count": 4,
     "metadata": {},
     "output_type": "execute_result"
    }
   ],
   "source": [
    "peak([1,3,4,5,2])"
   ]
  }
 ],
 "metadata": {
  "kernelspec": {
   "display_name": "Python 3",
   "language": "python",
   "name": "python3"
  },
  "language_info": {
   "codemirror_mode": {
    "name": "ipython",
    "version": 3
   },
   "file_extension": ".py",
   "mimetype": "text/x-python",
   "name": "python",
   "nbconvert_exporter": "python",
   "pygments_lexer": "ipython3",
   "version": "3.7.6"
  }
 },
 "nbformat": 4,
 "nbformat_minor": 4
}
