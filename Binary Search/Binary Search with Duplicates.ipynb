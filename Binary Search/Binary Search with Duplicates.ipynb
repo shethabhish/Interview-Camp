{
 "cells": [
  {
   "cell_type": "code",
   "execution_count": 1,
   "metadata": {},
   "outputs": [],
   "source": [
    "def bsearch_duplicates(arr,key):\n",
    "    start,end  = 0,len(arr)-1\n",
    "    while start <= end:\n",
    "        mid = start + (end - start)//2\n",
    "        if key < arr[mid] or (key == arr[mid] and mid > 0 and arr[mid-1] == key):\n",
    "            end = mid - 1\n",
    "        elif key > arr[mid]:\n",
    "            start = mid + 1\n",
    "        else:\n",
    "            return mid\n",
    "    return -1"
   ]
  },
  {
   "cell_type": "code",
   "execution_count": 2,
   "metadata": {},
   "outputs": [
    {
     "data": {
      "text/plain": [
       "1"
      ]
     },
     "execution_count": 2,
     "metadata": {},
     "output_type": "execute_result"
    }
   ],
   "source": [
    "bsearch_duplicates([1,2,2,3,4],2)"
   ]
  }
 ],
 "metadata": {
  "kernelspec": {
   "display_name": "Python 3",
   "language": "python",
   "name": "python3"
  },
  "language_info": {
   "codemirror_mode": {
    "name": "ipython",
    "version": 3
   },
   "file_extension": ".py",
   "mimetype": "text/x-python",
   "name": "python",
   "nbconvert_exporter": "python",
   "pygments_lexer": "ipython3",
   "version": "3.7.6"
  }
 },
 "nbformat": 4,
 "nbformat_minor": 4
}
