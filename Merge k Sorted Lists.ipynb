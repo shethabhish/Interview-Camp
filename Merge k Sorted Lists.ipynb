{
 "cells": [
  {
   "cell_type": "code",
   "execution_count": 1,
   "metadata": {},
   "outputs": [],
   "source": [
    "class ListNode:\n",
    "    def __init__(self,val):\n",
    "        self.val = val\n",
    "        self.next = None\n",
    "    def __lt__(self,other):\n",
    "        return self.val < other.val"
   ]
  },
  {
   "cell_type": "code",
   "execution_count": 2,
   "metadata": {},
   "outputs": [],
   "source": [
    "from heapq import *\n",
    "def merge_list(lists):\n",
    "    minheap = []\n",
    "    for root in lists:\n",
    "        if root is not None:\n",
    "            heappush(minheap,root)\n",
    "    resulthead,resulttail = None,None\n",
    "    while minheap:\n",
    "        node = heappop(minheap)\n",
    "        if resulthead is None:\n",
    "            resulthead = resulttail = node\n",
    "        else:\n",
    "            resulttail.next = node\n",
    "            resulttail = resulttail.next\n",
    "        if node.next:\n",
    "            heappush(minheap,node.next)\n",
    "    result = []\n",
    "    while resulthead:\n",
    "        result.append(resulthead.val)\n",
    "        resulthead = resulthead.next\n",
    "    return result"
   ]
  },
  {
   "cell_type": "code",
   "execution_count": 3,
   "metadata": {},
   "outputs": [],
   "source": [
    "l1 = ListNode(2)\n",
    "l1.next = ListNode(6)\n",
    "l1.next.next = ListNode(8)\n",
    "l2 = ListNode(3)\n",
    "l2.next = ListNode(6)\n",
    "l2.next.next = ListNode(7)\n",
    "l3 = ListNode(1)\n",
    "l3.next = ListNode(3)\n",
    "l3.next.next = ListNode(4)"
   ]
  },
  {
   "cell_type": "code",
   "execution_count": 4,
   "metadata": {},
   "outputs": [
    {
     "data": {
      "text/plain": [
       "[1, 2, 3, 3, 4, 6, 6, 7, 8]"
      ]
     },
     "execution_count": 4,
     "metadata": {},
     "output_type": "execute_result"
    }
   ],
   "source": [
    "merge_list([l1,l2,l3])"
   ]
  }
 ],
 "metadata": {
  "kernelspec": {
   "display_name": "Python 3",
   "language": "python",
   "name": "python3"
  },
  "language_info": {
   "codemirror_mode": {
    "name": "ipython",
    "version": 3
   },
   "file_extension": ".py",
   "mimetype": "text/x-python",
   "name": "python",
   "nbconvert_exporter": "python",
   "pygments_lexer": "ipython3",
   "version": "3.7.6"
  }
 },
 "nbformat": 4,
 "nbformat_minor": 4
}
