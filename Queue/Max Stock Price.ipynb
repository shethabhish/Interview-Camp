{
 "cells": [
  {
   "cell_type": "code",
   "execution_count": 1,
   "metadata": {},
   "outputs": [],
   "source": [
    "def stocks_price(stocks):\n",
    "    start,end = 0,3\n",
    "    maxi = 0\n",
    "    for i in range(len(stocks)-2):\n",
    "        maxi = max(stocks[i][0],stocks[i+1][0],stocks[i+2][0])\n",
    "        if i >= 2:\n",
    "            if stocks[start][0] == maxi:\n",
    "                maxi = max(stocks[start+1][0],stocks[start+2][0])\n",
    "                start += 1\n",
    "    return maxi"
   ]
  },
  {
   "cell_type": "code",
   "execution_count": 2,
   "metadata": {},
   "outputs": [
    {
     "data": {
      "text/plain": [
       "46"
      ]
     },
     "execution_count": 2,
     "metadata": {},
     "output_type": "execute_result"
    }
   ],
   "source": [
    "stocks_price([(32, 1), (45, 1), (37,2), (42,3),(46,4)])"
   ]
  }
 ],
 "metadata": {
  "kernelspec": {
   "display_name": "Python 3",
   "language": "python",
   "name": "python3"
  },
  "language_info": {
   "codemirror_mode": {
    "name": "ipython",
    "version": 3
   },
   "file_extension": ".py",
   "mimetype": "text/x-python",
   "name": "python",
   "nbconvert_exporter": "python",
   "pygments_lexer": "ipython3",
   "version": "3.7.6"
  }
 },
 "nbformat": 4,
 "nbformat_minor": 4
}
