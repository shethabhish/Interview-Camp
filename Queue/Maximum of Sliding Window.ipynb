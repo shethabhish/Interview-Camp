{
 "cells": [
  {
   "cell_type": "code",
   "execution_count": 1,
   "metadata": {},
   "outputs": [],
   "source": [
    "def max_sliding(arr,k):\n",
    "    result = []\n",
    "    maxi,start = 0,0\n",
    "    for i in range(len(arr)):\n",
    "        maxi = max(maxi,arr[i])\n",
    "        if i >= k-1:\n",
    "            result.append(maxi)\n",
    "            maxi = 0\n",
    "            for j in range(start+1,start+k-1):\n",
    "                maxi = max(maxi,arr[j])\n",
    "            start += 1\n",
    "    return result"
   ]
  },
  {
   "cell_type": "code",
   "execution_count": 2,
   "metadata": {},
   "outputs": [
    {
     "data": {
      "text/plain": [
       "[6, 6, 5, 7]"
      ]
     },
     "execution_count": 2,
     "metadata": {},
     "output_type": "execute_result"
    }
   ],
   "source": [
    "max_sliding([4,6,5,2,4,7],3)"
   ]
  }
 ],
 "metadata": {
  "kernelspec": {
   "display_name": "Python 3",
   "language": "python",
   "name": "python3"
  },
  "language_info": {
   "codemirror_mode": {
    "name": "ipython",
    "version": 3
   },
   "file_extension": ".py",
   "mimetype": "text/x-python",
   "name": "python",
   "nbconvert_exporter": "python",
   "pygments_lexer": "ipython3",
   "version": "3.7.6"
  }
 },
 "nbformat": 4,
 "nbformat_minor": 4
}
