{
 "cells": [
  {
   "cell_type": "code",
   "execution_count": 1,
   "metadata": {},
   "outputs": [],
   "source": [
    "def find_k_smallest(arr,k):\n",
    "    if len(arr) == 0 or k < 1 or k > len(arr):\n",
    "        return None\n",
    "    return selection_algorithm(arr,0,len(arr)-1,k-1)"
   ]
  },
  {
   "cell_type": "code",
   "execution_count": 2,
   "metadata": {},
   "outputs": [],
   "source": [
    "import random\n",
    "def selection_algorithm(arr,start,end,target):\n",
    "    pivot = random.randint(start,end)\n",
    "    result = single_placement_partition(arr,start,end,pivot)\n",
    "    if result > target:\n",
    "        return selection_algorithm(arr,start,result-1,target)\n",
    "    elif result < target:\n",
    "        return selection_algorithm(arr,start,result+1,target)\n",
    "    else:\n",
    "        return arr[result]"
   ]
  },
  {
   "cell_type": "code",
   "execution_count": 3,
   "metadata": {},
   "outputs": [],
   "source": [
    "def single_placement_partition(arr,start,end,pivot):\n",
    "    arr[start],arr[pivot] = arr[pivot],arr[start]\n",
    "    less = start\n",
    "    i = start+1\n",
    "    while i <= end:\n",
    "        if arr[i] <= arr[start]:\n",
    "            less += 1\n",
    "            arr[i],arr[less] = arr[less],arr[i]\n",
    "        i += 1\n",
    "    arr[start],arr[less] = arr[less],arr[start]\n",
    "    return less"
   ]
  },
  {
   "cell_type": "code",
   "execution_count": 4,
   "metadata": {},
   "outputs": [
    {
     "data": {
      "text/plain": [
       "1"
      ]
     },
     "execution_count": 4,
     "metadata": {},
     "output_type": "execute_result"
    }
   ],
   "source": [
    "find_k_smallest([4,2,6,0,1,5],2)"
   ]
  }
 ],
 "metadata": {
  "kernelspec": {
   "display_name": "Python 3",
   "language": "python",
   "name": "python3"
  },
  "language_info": {
   "codemirror_mode": {
    "name": "ipython",
    "version": 3
   },
   "file_extension": ".py",
   "mimetype": "text/x-python",
   "name": "python",
   "nbconvert_exporter": "python",
   "pygments_lexer": "ipython3",
   "version": "3.7.6"
  }
 },
 "nbformat": 4,
 "nbformat_minor": 4
}
