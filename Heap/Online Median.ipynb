{
 "cells": [
  {
   "cell_type": "code",
   "execution_count": 1,
   "metadata": {},
   "outputs": [],
   "source": [
    "from heapq import *\n",
    "class MedianStream:\n",
    "    maxheap,minheap = [],[]\n",
    "    def insert_num(self,num):\n",
    "        if not self.maxheap or -self.maxheap[0] >= num:\n",
    "            heappush(self.maxheap,-num)\n",
    "        else:\n",
    "            heappush(self.minheap,num)\n",
    "        if len(self.maxheap) > len(self.minheap)+1:\n",
    "            heappush(self.minheap, -heappop(self.maxheap))\n",
    "        elif len(self.maxheap) < len(self.minheap):\n",
    "            heappush(self.maxheap,-heappop(self.minheap))\n",
    "    def find_median(self):\n",
    "        if len(self.minheap) == len(self.maxheap):\n",
    "            return -self.maxheap[0]/2.0 + self.minheap[0]/2.0\n",
    "        else:\n",
    "            return -self.maxheap[0]/1.0"
   ]
  },
  {
   "cell_type": "code",
   "execution_count": 2,
   "metadata": {},
   "outputs": [
    {
     "data": {
      "text/plain": [
       "2.0"
      ]
     },
     "execution_count": 2,
     "metadata": {},
     "output_type": "execute_result"
    }
   ],
   "source": [
    "val = MedianStream()\n",
    "val.insert_num(3)\n",
    "val.insert_num(1)\n",
    "val.find_median()"
   ]
  },
  {
   "cell_type": "code",
   "execution_count": 3,
   "metadata": {},
   "outputs": [
    {
     "data": {
      "text/plain": [
       "3.0"
      ]
     },
     "execution_count": 3,
     "metadata": {},
     "output_type": "execute_result"
    }
   ],
   "source": [
    "val.insert_num(5)\n",
    "val.find_median()"
   ]
  }
 ],
 "metadata": {
  "kernelspec": {
   "display_name": "Python 3",
   "language": "python",
   "name": "python3"
  },
  "language_info": {
   "codemirror_mode": {
    "name": "ipython",
    "version": 3
   },
   "file_extension": ".py",
   "mimetype": "text/x-python",
   "name": "python",
   "nbconvert_exporter": "python",
   "pygments_lexer": "ipython3",
   "version": "3.7.6"
  }
 },
 "nbformat": 4,
 "nbformat_minor": 4
}
