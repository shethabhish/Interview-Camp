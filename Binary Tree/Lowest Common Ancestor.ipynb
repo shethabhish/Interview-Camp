{
 "cells": [
  {
   "cell_type": "code",
   "execution_count": 1,
   "metadata": {},
   "outputs": [],
   "source": [
    "class Tree:\n",
    "    def __init__(self,val):\n",
    "        self.val = val\n",
    "        self.left = None\n",
    "        self.right = None"
   ]
  },
  {
   "cell_type": "code",
   "execution_count": 2,
   "metadata": {},
   "outputs": [],
   "source": [
    "class LCA:\n",
    "    def __init__(self):\n",
    "        self.ans = None\n",
    "    def lowest_common_ancestor(self, root, p, q):\n",
    "        def recurse_tree(current):\n",
    "            if current is None:\n",
    "                return False\n",
    "            left = recurse_tree(current.left)\n",
    "            right = recurse_tree(current.right)\n",
    "            mid = current.val == p or current.val == q\n",
    "            if mid + left + right >= 2:\n",
    "                self.ans = current\n",
    "            return mid or left or right\n",
    "        recurse_tree(root)\n",
    "        return self.ans.val"
   ]
  },
  {
   "cell_type": "code",
   "execution_count": 3,
   "metadata": {},
   "outputs": [],
   "source": [
    "root = Tree(4)\n",
    "root.left = Tree(2)\n",
    "root.right = Tree(6)\n",
    "root.left.left = Tree(1)\n",
    "root.left.right = Tree(3)\n",
    "root.right.left = Tree(5)\n",
    "root.right.right = Tree(7)"
   ]
  },
  {
   "cell_type": "code",
   "execution_count": 4,
   "metadata": {},
   "outputs": [
    {
     "data": {
      "text/plain": [
       "2"
      ]
     },
     "execution_count": 4,
     "metadata": {},
     "output_type": "execute_result"
    }
   ],
   "source": [
    "lca = LCA()\n",
    "lca.lowest_common_ancestor(root, 1,3)"
   ]
  },
  {
   "cell_type": "code",
   "execution_count": 5,
   "metadata": {},
   "outputs": [],
   "source": [
    "root = Tree(3)\n",
    "root.left = Tree(5)\n",
    "root.right = Tree(1)\n",
    "root.left.left = Tree(6)\n",
    "root.left.right = Tree(2)\n",
    "root.right.left = Tree(0)\n",
    "root.right.right = Tree(8)\n",
    "root.left.left.left = Tree(None)\n",
    "root.left.left.right = Tree(None)\n",
    "root.left.right.left = Tree(7)\n",
    "root.left.right.right = Tree(4)"
   ]
  },
  {
   "cell_type": "code",
   "execution_count": 6,
   "metadata": {},
   "outputs": [
    {
     "data": {
      "text/plain": [
       "3"
      ]
     },
     "execution_count": 6,
     "metadata": {},
     "output_type": "execute_result"
    }
   ],
   "source": [
    "lca = LCA()\n",
    "lca.lowest_common_ancestor(root, 5,1)"
   ]
  }
 ],
 "metadata": {
  "kernelspec": {
   "display_name": "Python 3",
   "language": "python",
   "name": "python3"
  },
  "language_info": {
   "codemirror_mode": {
    "name": "ipython",
    "version": 3
   },
   "file_extension": ".py",
   "mimetype": "text/x-python",
   "name": "python",
   "nbconvert_exporter": "python",
   "pygments_lexer": "ipython3",
   "version": "3.7.6"
  }
 },
 "nbformat": 4,
 "nbformat_minor": 4
}
