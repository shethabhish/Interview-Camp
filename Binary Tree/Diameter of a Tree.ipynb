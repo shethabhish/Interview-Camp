{
 "cells": [
  {
   "cell_type": "code",
   "execution_count": 1,
   "metadata": {},
   "outputs": [],
   "source": [
    "class Tree:\n",
    "    def __init__(self,val):\n",
    "        self.val = val\n",
    "        self.left = None\n",
    "        self.right = None"
   ]
  },
  {
   "cell_type": "code",
   "execution_count": 2,
   "metadata": {},
   "outputs": [],
   "source": [
    "def tree_diameter(root):\n",
    "    return get_diameter(root,0)[1]\n",
    "def get_diameter(root,diameter):\n",
    "    if root is None:\n",
    "        return 0,diameter\n",
    "    left,diameter = get_diameter(root.left,diameter)\n",
    "    right,diameter = get_diameter(root.right,diameter)\n",
    "    diameter = max(diameter,left+right+1)\n",
    "    return max(left,right)+1, diameter"
   ]
  },
  {
   "cell_type": "code",
   "execution_count": 3,
   "metadata": {},
   "outputs": [],
   "source": [
    "root = Tree(4)\n",
    "root.left = Tree(2)\n",
    "root.right = Tree(6)\n",
    "root.left.left = Tree(1)\n",
    "root.left.right = Tree(3)\n",
    "root.right.left = Tree(5)\n",
    "root.right.right = Tree(7)"
   ]
  },
  {
   "cell_type": "code",
   "execution_count": 4,
   "metadata": {},
   "outputs": [
    {
     "data": {
      "text/plain": [
       "5"
      ]
     },
     "execution_count": 4,
     "metadata": {},
     "output_type": "execute_result"
    }
   ],
   "source": [
    "tree_diameter(root)"
   ]
  }
 ],
 "metadata": {
  "kernelspec": {
   "display_name": "Python 3",
   "language": "python",
   "name": "python3"
  },
  "language_info": {
   "codemirror_mode": {
    "name": "ipython",
    "version": 3
   },
   "file_extension": ".py",
   "mimetype": "text/x-python",
   "name": "python",
   "nbconvert_exporter": "python",
   "pygments_lexer": "ipython3",
   "version": "3.7.6"
  }
 },
 "nbformat": 4,
 "nbformat_minor": 4
}
