{
 "cells": [
  {
   "cell_type": "code",
   "execution_count": 1,
   "metadata": {},
   "outputs": [],
   "source": [
    "def print_all(arr,size):\n",
    "    if len(arr) == 0 or size > len(arr):\n",
    "        return None\n",
    "    buffer = [0] * size\n",
    "    printCombos(arr,buffer,0,0)\n",
    "    \n",
    "def printCombos(arr,buffer,startindex,bufferindex):\n",
    "    if bufferindex == len(buffer):\n",
    "        print(buffer)\n",
    "        return\n",
    "    if startindex == len(arr):\n",
    "        return\n",
    "    for i in range(startindex,len(arr)):\n",
    "        buffer[bufferindex] = arr[i]\n",
    "        printCombos(arr,buffer,i+1,bufferindex+1)"
   ]
  },
  {
   "cell_type": "code",
   "execution_count": 2,
   "metadata": {},
   "outputs": [
    {
     "name": "stdout",
     "output_type": "stream",
     "text": [
      "[1, 2, 3]\n",
      "[1, 2, 4]\n",
      "[1, 2, 5]\n",
      "[1, 2, 6]\n",
      "[1, 2, 7]\n",
      "[1, 3, 4]\n",
      "[1, 3, 5]\n",
      "[1, 3, 6]\n",
      "[1, 3, 7]\n",
      "[1, 4, 5]\n",
      "[1, 4, 6]\n",
      "[1, 4, 7]\n",
      "[1, 5, 6]\n",
      "[1, 5, 7]\n",
      "[1, 6, 7]\n",
      "[2, 3, 4]\n",
      "[2, 3, 5]\n",
      "[2, 3, 6]\n",
      "[2, 3, 7]\n",
      "[2, 4, 5]\n",
      "[2, 4, 6]\n",
      "[2, 4, 7]\n",
      "[2, 5, 6]\n",
      "[2, 5, 7]\n",
      "[2, 6, 7]\n",
      "[3, 4, 5]\n",
      "[3, 4, 6]\n",
      "[3, 4, 7]\n",
      "[3, 5, 6]\n",
      "[3, 5, 7]\n",
      "[3, 6, 7]\n",
      "[4, 5, 6]\n",
      "[4, 5, 7]\n",
      "[4, 6, 7]\n",
      "[5, 6, 7]\n"
     ]
    }
   ],
   "source": [
    "print_all([1,2,3,4,5,6,7],3)"
   ]
  }
 ],
 "metadata": {
  "kernelspec": {
   "display_name": "Python 3",
   "language": "python",
   "name": "python3"
  },
  "language_info": {
   "codemirror_mode": {
    "name": "ipython",
    "version": 3
   },
   "file_extension": ".py",
   "mimetype": "text/x-python",
   "name": "python",
   "nbconvert_exporter": "python",
   "pygments_lexer": "ipython3",
   "version": "3.7.6"
  }
 },
 "nbformat": 4,
 "nbformat_minor": 4
}
