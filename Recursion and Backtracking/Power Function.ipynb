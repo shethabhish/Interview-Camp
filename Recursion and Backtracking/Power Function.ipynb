{
 "cells": [
  {
   "cell_type": "code",
   "execution_count": 4,
   "metadata": {},
   "outputs": [],
   "source": [
    "def power_function(x,power):\n",
    "    if x == 0 and power <= 0:\n",
    "        return None\n",
    "    result = positivepower(abs(x),abs(power))\n",
    "    if power < 0:\n",
    "        result = 1/result\n",
    "    if x < 0 and power % 2 != 0:\n",
    "        result = -1 * result\n",
    "    return result\n",
    "\n",
    "def positivepower(x,power):\n",
    "    if power == 0:\n",
    "        return 1\n",
    "    if power == 1:\n",
    "        return x\n",
    "    halfpower = positivepower(x,power//2)\n",
    "    if power % 2 == 0:\n",
    "        return halfpower**2\n",
    "    else:\n",
    "        return x * halfpower**2"
   ]
  },
  {
   "cell_type": "code",
   "execution_count": 5,
   "metadata": {},
   "outputs": [
    {
     "data": {
      "text/plain": [
       "16"
      ]
     },
     "execution_count": 5,
     "metadata": {},
     "output_type": "execute_result"
    }
   ],
   "source": [
    "power_function(2,4)"
   ]
  }
 ],
 "metadata": {
  "kernelspec": {
   "display_name": "Python 3",
   "language": "python",
   "name": "python3"
  },
  "language_info": {
   "codemirror_mode": {
    "name": "ipython",
    "version": 3
   },
   "file_extension": ".py",
   "mimetype": "text/x-python",
   "name": "python",
   "nbconvert_exporter": "python",
   "pygments_lexer": "ipython3",
   "version": "3.7.6"
  }
 },
 "nbformat": 4,
 "nbformat_minor": 4
}
