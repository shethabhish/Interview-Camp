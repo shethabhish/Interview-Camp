{
 "cells": [
  {
   "cell_type": "code",
   "execution_count": 1,
   "metadata": {},
   "outputs": [],
   "source": [
    "def path_exists(arr):\n",
    "    if len(arr) == 0:\n",
    "        return False\n",
    "    memo = [[False for i in range(len(arr))] for j in range(len(arr))]\n",
    "    return find_path(arr,0,0,memo)\n",
    "\n",
    "def find_path(arr,i,j,memo):\n",
    "    if oor(arr,i,j) or arr[i][j] == 1:\n",
    "        return False\n",
    "    if i == len(arr) - 1 and j == len(arr[0])-1:\n",
    "        return True\n",
    "    if memo[i][j] == -1 or memo[i][j]:\n",
    "        return False\n",
    "    memo[i][j] = True\n",
    "    points = [[i+1,j],[i-1,j],[i,j+1],[i,j-1]]\n",
    "    for point in points:\n",
    "        if find_path(arr,point[0],point[1],memo):\n",
    "            return True\n",
    "    memo[i][j] = -1\n",
    "    return False\n",
    "\n",
    "def oor(arr,i,j):\n",
    "    return i < 0 or i >= len(arr) or j < 0 or j >= len(arr[0])"
   ]
  },
  {
   "cell_type": "code",
   "execution_count": 2,
   "metadata": {},
   "outputs": [],
   "source": [
    "path_exists([[0,1,0,0,0],[0,1,0,1,0],[0,1,0,1,0],[0,1,0,1,0],[0,0,0,1,0]])"
   ]
  }
 ],
 "metadata": {
  "kernelspec": {
   "display_name": "Python 3",
   "language": "python",
   "name": "python3"
  },
  "language_info": {
   "codemirror_mode": {
    "name": "ipython",
    "version": 3
   },
   "file_extension": ".py",
   "mimetype": "text/x-python",
   "name": "python",
   "nbconvert_exporter": "python",
   "pygments_lexer": "ipython3",
   "version": "3.7.6"
  }
 },
 "nbformat": 4,
 "nbformat_minor": 4
}
