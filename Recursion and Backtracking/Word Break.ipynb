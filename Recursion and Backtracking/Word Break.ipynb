{
 "cells": [
  {
   "cell_type": "code",
   "execution_count": 1,
   "metadata": {},
   "outputs": [],
   "source": [
    "def word_break(s,dictionary):\n",
    "    if len(s) == 0:\n",
    "        return None\n",
    "    memo = [False]*len(s)\n",
    "    result = []\n",
    "    if wordbreak(s,0,memo,result,dictionary):\n",
    "        return result\n",
    "    return None\n",
    "\n",
    "def wordbreak(s,start,memo,result,dictionary):\n",
    "    if start == len(s):\n",
    "        return True\n",
    "    if memo[start] == -1:\n",
    "        return False\n",
    "    for i in range(start,len(s)):\n",
    "        word = s[start:i+1]\n",
    "        if word in dictionary:\n",
    "            result.append(word)\n",
    "            if wordbreak(s,i+1,memo,result,dictionary):\n",
    "                return True\n",
    "            else:\n",
    "                result.remove(len(result)-1)\n",
    "                memo[i+1] = -1\n",
    "    return False"
   ]
  },
  {
   "cell_type": "code",
   "execution_count": 2,
   "metadata": {},
   "outputs": [
    {
     "data": {
      "text/plain": [
       "['i', 'like', 'man', 'go', 'tan', 'go']"
      ]
     },
     "execution_count": 2,
     "metadata": {},
     "output_type": "execute_result"
    }
   ],
   "source": [
    "word_break(\"ilikemangotango\",[\"i\",\"like\", \"mango\", \"tango\",\"man\", \"go\", \"tan\",])"
   ]
  }
 ],
 "metadata": {
  "kernelspec": {
   "display_name": "Python 3",
   "language": "python",
   "name": "python3"
  },
  "language_info": {
   "codemirror_mode": {
    "name": "ipython",
    "version": 3
   },
   "file_extension": ".py",
   "mimetype": "text/x-python",
   "name": "python",
   "nbconvert_exporter": "python",
   "pygments_lexer": "ipython3",
   "version": "3.7.6"
  }
 },
 "nbformat": 4,
 "nbformat_minor": 4
}
