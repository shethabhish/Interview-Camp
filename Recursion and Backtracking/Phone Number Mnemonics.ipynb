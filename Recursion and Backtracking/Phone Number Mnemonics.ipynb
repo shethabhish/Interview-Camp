{
 "cells": [
  {
   "cell_type": "code",
   "execution_count": 1,
   "metadata": {},
   "outputs": [],
   "source": [
    "def phone(arr):\n",
    "    if len(arr) == 0:\n",
    "        return\n",
    "    buffer = [0] * len(arr)\n",
    "    mnemonics(arr,buffer,0,0)\n",
    "\n",
    "def mnemonics(arr,buffer,startindex,bufferindex):\n",
    "    if bufferindex >= len(buffer) or startindex >= len(arr):\n",
    "        print(buffer)\n",
    "        return\n",
    "    letters = getLetters(arr[startindex])\n",
    "    if len(letters) == 0:\n",
    "        mnemonics(arr,buffer,startindex+1,bufferindex)\n",
    "        return\n",
    "    for i in letters:\n",
    "        buffer[bufferindex] = i\n",
    "        mnemonics(arr,buffer,startindex+1,bufferindex+1)\n",
    "        \n",
    "def getLetters(digit):\n",
    "    digits = {\n",
    "        0: {},\n",
    "        1: {},\n",
    "        2: {\"a\",\"b\",\"c\"},\n",
    "        3: {\"d\",\"e\",\"f\"},\n",
    "        4: {\"g\",\"h\",\"i\"},\n",
    "        5: {\"j\",\"k\",\"l\"},\n",
    "        6: {\"m\",\"n\",\"o\"},\n",
    "        7: {\"p\",\"q\",\"r\",\"s\"},\n",
    "        8: {\"t\",\"u\",\"v\"},\n",
    "        9: {\"w\",\"x\",\"y\",\"z\"}\n",
    "    }\n",
    "    return digits.get(digit)"
   ]
  },
  {
   "cell_type": "code",
   "execution_count": 2,
   "metadata": {},
   "outputs": [
    {
     "name": "stdout",
     "output_type": "stream",
     "text": [
      "['b', 'd', 'h']\n",
      "['b', 'd', 'i']\n",
      "['b', 'd', 'g']\n",
      "['b', 'f', 'h']\n",
      "['b', 'f', 'i']\n",
      "['b', 'f', 'g']\n",
      "['b', 'e', 'h']\n",
      "['b', 'e', 'i']\n",
      "['b', 'e', 'g']\n",
      "['c', 'd', 'h']\n",
      "['c', 'd', 'i']\n",
      "['c', 'd', 'g']\n",
      "['c', 'f', 'h']\n",
      "['c', 'f', 'i']\n",
      "['c', 'f', 'g']\n",
      "['c', 'e', 'h']\n",
      "['c', 'e', 'i']\n",
      "['c', 'e', 'g']\n",
      "['a', 'd', 'h']\n",
      "['a', 'd', 'i']\n",
      "['a', 'd', 'g']\n",
      "['a', 'f', 'h']\n",
      "['a', 'f', 'i']\n",
      "['a', 'f', 'g']\n",
      "['a', 'e', 'h']\n",
      "['a', 'e', 'i']\n",
      "['a', 'e', 'g']\n"
     ]
    }
   ],
   "source": [
    "phone([2,3,4])"
   ]
  },
  {
   "cell_type": "code",
   "execution_count": null,
   "metadata": {},
   "outputs": [],
   "source": []
  }
 ],
 "metadata": {
  "kernelspec": {
   "display_name": "Python 3",
   "language": "python",
   "name": "python3"
  },
  "language_info": {
   "codemirror_mode": {
    "name": "ipython",
    "version": 3
   },
   "file_extension": ".py",
   "mimetype": "text/x-python",
   "name": "python",
   "nbconvert_exporter": "python",
   "pygments_lexer": "ipython3",
   "version": "3.7.6"
  }
 },
 "nbformat": 4,
 "nbformat_minor": 4
}
