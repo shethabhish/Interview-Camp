{
 "cells": [
  {
   "cell_type": "code",
   "execution_count": 1,
   "metadata": {},
   "outputs": [],
   "source": [
    "def squares(arr):\n",
    "    if len(arr) == 0:\n",
    "        return arr\n",
    "    result = [0 for i in range(len(arr))]\n",
    "    lastind = len(result)-1\n",
    "    start,end = 0,len(arr)-1\n",
    "    while start < end:\n",
    "        left,right = arr[start]**2,arr[end]**2\n",
    "        if left >= right:\n",
    "            result[lastind] = left\n",
    "            start += 1\n",
    "            lastind -= 1\n",
    "        elif right > left:\n",
    "            result[lastind] = right\n",
    "            end -= 1\n",
    "            lastind -= 1\n",
    "    return result"
   ]
  },
  {
   "cell_type": "code",
   "execution_count": 2,
   "metadata": {},
   "outputs": [
    {
     "data": {
      "text/plain": [
       "[0, 1, 4, 9, 16, 25]"
      ]
     },
     "execution_count": 2,
     "metadata": {},
     "output_type": "execute_result"
    }
   ],
   "source": [
    "squares([-4,-2,-1,0,3,5])"
   ]
  }
 ],
 "metadata": {
  "kernelspec": {
   "display_name": "Python 3",
   "language": "python",
   "name": "python3"
  },
  "language_info": {
   "codemirror_mode": {
    "name": "ipython",
    "version": 3
   },
   "file_extension": ".py",
   "mimetype": "text/x-python",
   "name": "python",
   "nbconvert_exporter": "python",
   "pygments_lexer": "ipython3",
   "version": "3.7.6"
  }
 },
 "nbformat": 4,
 "nbformat_minor": 4
}
