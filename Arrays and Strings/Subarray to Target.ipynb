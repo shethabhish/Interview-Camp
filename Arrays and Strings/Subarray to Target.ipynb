{
 "cells": [
  {
   "cell_type": "code",
   "execution_count": 1,
   "metadata": {},
   "outputs": [],
   "source": [
    "def subarray_target(arr,target):\n",
    "    windowstart,windowsum = 0,0\n",
    "    for windowend in range(len(arr)):\n",
    "        windowsum += arr[windowend]\n",
    "        while windowsum > target and windowstart < windowend:\n",
    "            windowsum -= arr[windowstart]\n",
    "            windowstart += 1\n",
    "        if windowsum == target:\n",
    "            return arr[windowstart:windowend+1]"
   ]
  },
  {
   "cell_type": "code",
   "execution_count": 2,
   "metadata": {},
   "outputs": [
    {
     "data": {
      "text/plain": [
       "[1, 7, 6, 4]"
      ]
     },
     "execution_count": 2,
     "metadata": {},
     "output_type": "execute_result"
    }
   ],
   "source": [
    "subarray_target([5,3,1,7,6,4,2,3],18)"
   ]
  }
 ],
 "metadata": {
  "kernelspec": {
   "display_name": "Python 3",
   "language": "python",
   "name": "python3"
  },
  "language_info": {
   "codemirror_mode": {
    "name": "ipython",
    "version": 3
   },
   "file_extension": ".py",
   "mimetype": "text/x-python",
   "name": "python",
   "nbconvert_exporter": "python",
   "pygments_lexer": "ipython3",
   "version": "3.7.6"
  }
 },
 "nbformat": 4,
 "nbformat_minor": 4
}
