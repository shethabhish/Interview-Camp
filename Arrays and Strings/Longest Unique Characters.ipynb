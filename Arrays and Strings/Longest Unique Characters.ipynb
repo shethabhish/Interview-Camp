{
 "cells": [
  {
   "cell_type": "code",
   "execution_count": 1,
   "metadata": {},
   "outputs": [],
   "source": [
    "def subarray(s):\n",
    "    maxlength = longest(s,False,0)\n",
    "    indexes = longest(s,True,maxlength)\n",
    "    return s[indexes[0]:indexes[1]+1]"
   ]
  },
  {
   "cell_type": "code",
   "execution_count": 2,
   "metadata": {},
   "outputs": [],
   "source": [
    "def longest(s,indexes,maxi):\n",
    "    windowstart = 0\n",
    "    charfreq = {}\n",
    "    maxlength = 0\n",
    "    for windowend in range(len(s)):\n",
    "        if s[windowend] in charfreq:\n",
    "            windowstart = max(windowstart,charfreq[s[windowend]]+1)\n",
    "        charfreq[s[windowend]] = windowend\n",
    "        maxlength = max(windowend-windowstart+1,maxlength)\n",
    "        if indexes:\n",
    "            if maxi == maxlength:\n",
    "                return [windowstart,windowend]\n",
    "    return maxlength"
   ]
  },
  {
   "cell_type": "code",
   "execution_count": 3,
   "metadata": {},
   "outputs": [
    {
     "data": {
      "text/plain": [
       "'atwhy'"
      ]
     },
     "execution_count": 3,
     "metadata": {},
     "output_type": "execute_result"
    }
   ],
   "source": [
    "subarray(\"whatwhywhere\")"
   ]
  },
  {
   "cell_type": "code",
   "execution_count": 4,
   "metadata": {},
   "outputs": [],
   "source": [
    "def longest(s):\n",
    "    windowstart = 0\n",
    "    charfreq = {}\n",
    "    maxlength = 0\n",
    "    alll = []\n",
    "    for windowend in range(len(s)):\n",
    "        if s[windowend] in charfreq:\n",
    "            alll.append(s[windowstart:windowend])\n",
    "            windowstart = max(windowstart,charfreq[s[windowend]]+1)\n",
    "        charfreq[s[windowend]] = windowend\n",
    "        maxlength = max(windowend-windowstart+1,maxlength)\n",
    "    for word in alll:\n",
    "        if len(word) == maxlength:\n",
    "            return word"
   ]
  },
  {
   "cell_type": "code",
   "execution_count": 5,
   "metadata": {},
   "outputs": [
    {
     "data": {
      "text/plain": [
       "'atwhy'"
      ]
     },
     "execution_count": 5,
     "metadata": {},
     "output_type": "execute_result"
    }
   ],
   "source": [
    "longest(\"whatwhywhere\")"
   ]
  },
  {
   "cell_type": "code",
   "execution_count": 6,
   "metadata": {},
   "outputs": [],
   "source": [
    "def longest(s):\n",
    "    windowstart = 0\n",
    "    charfreq = {}\n",
    "    maxlength = 0\n",
    "    alll = {}\n",
    "    for windowend in range(len(s)):\n",
    "        if s[windowend] in charfreq:\n",
    "            alll[s[windowstart:windowend]] = windowend - windowstart\n",
    "            windowstart = max(windowstart,charfreq[s[windowend]]+1)\n",
    "        charfreq[s[windowend]] = windowend\n",
    "        maxlength = max(windowend-windowstart+1,maxlength)\n",
    "    for word,val in alll.items():\n",
    "        if val == maxlength:\n",
    "            return word"
   ]
  },
  {
   "cell_type": "code",
   "execution_count": 7,
   "metadata": {},
   "outputs": [
    {
     "data": {
      "text/plain": [
       "'atwhy'"
      ]
     },
     "execution_count": 7,
     "metadata": {},
     "output_type": "execute_result"
    }
   ],
   "source": [
    "longest(\"whatwhywhere\")"
   ]
  }
 ],
 "metadata": {
  "kernelspec": {
   "display_name": "Python 3",
   "language": "python",
   "name": "python3"
  },
  "language_info": {
   "codemirror_mode": {
    "name": "ipython",
    "version": 3
   },
   "file_extension": ".py",
   "mimetype": "text/x-python",
   "name": "python",
   "nbconvert_exporter": "python",
   "pygments_lexer": "ipython3",
   "version": "3.7.6"
  }
 },
 "nbformat": 4,
 "nbformat_minor": 4
}
