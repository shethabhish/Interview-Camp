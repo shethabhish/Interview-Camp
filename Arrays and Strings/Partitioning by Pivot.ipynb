{
 "cells": [
  {
   "cell_type": "code",
   "execution_count": 1,
   "metadata": {},
   "outputs": [],
   "source": [
    "def partition(arr,pivot):\n",
    "    start,end,i = 0,len(arr)-1,0\n",
    "    while i <= end:\n",
    "        if arr[i] < pivot:\n",
    "            arr[start],arr[i] = arr[i],arr[start]\n",
    "            start += 1\n",
    "            i += 1\n",
    "        elif arr[i] > pivot:\n",
    "            arr[end],arr[i] = arr[i],arr[end]\n",
    "            end -= 1\n",
    "        else:\n",
    "            i += 1\n",
    "    return arr"
   ]
  },
  {
   "cell_type": "code",
   "execution_count": 2,
   "metadata": {},
   "outputs": [
    {
     "data": {
      "text/plain": [
       "[3, 2, 4, 4, 4, 4, 6, 5]"
      ]
     },
     "execution_count": 2,
     "metadata": {},
     "output_type": "execute_result"
    }
   ],
   "source": [
    "partition( [5,2,4,4,6,4,4,3],4)"
   ]
  }
 ],
 "metadata": {
  "kernelspec": {
   "display_name": "Python 3",
   "language": "python",
   "name": "python3"
  },
  "language_info": {
   "codemirror_mode": {
    "name": "ipython",
    "version": 3
   },
   "file_extension": ".py",
   "mimetype": "text/x-python",
   "name": "python",
   "nbconvert_exporter": "python",
   "pygments_lexer": "ipython3",
   "version": "3.7.6"
  }
 },
 "nbformat": 4,
 "nbformat_minor": 4
}
