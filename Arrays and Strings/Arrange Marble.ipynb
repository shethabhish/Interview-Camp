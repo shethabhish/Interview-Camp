{
 "cells": [
  {
   "cell_type": "code",
   "execution_count": 1,
   "metadata": {},
   "outputs": [],
   "source": [
    "from enum import Enum\n",
    "class Color(Enum):\n",
    "    RED = 0\n",
    "    WHITE = 1\n",
    "    BLUE = 2\n",
    "def arrange_marbles(arr):\n",
    "    length = len(arr)\n",
    "    red,blue = 0,len(arr)-1\n",
    "    i = 0\n",
    "    while i <= blue:\n",
    "        if arr[i] < Color.WHITE.value:\n",
    "            arr[red],arr[i] = arr[i],arr[red]\n",
    "            red += 1\n",
    "            i += 1\n",
    "        elif arr[i] > Color.WHITE.value:\n",
    "            arr[blue],arr[i] = arr[i],arr[blue]\n",
    "            blue -= 1\n",
    "        else:\n",
    "            i += 1\n",
    "    return arr"
   ]
  },
  {
   "cell_type": "code",
   "execution_count": 2,
   "metadata": {},
   "outputs": [
    {
     "data": {
      "text/plain": [
       "[0, 0, 1, 1, 1, 1, 2, 2]"
      ]
     },
     "execution_count": 2,
     "metadata": {},
     "output_type": "execute_result"
    }
   ],
   "source": [
    "arrange_marbles([1,0,1,2,1,0,1,2])"
   ]
  }
 ],
 "metadata": {
  "kernelspec": {
   "display_name": "Python 3",
   "language": "python",
   "name": "python3"
  },
  "language_info": {
   "codemirror_mode": {
    "name": "ipython",
    "version": 3
   },
   "file_extension": ".py",
   "mimetype": "text/x-python",
   "name": "python",
   "nbconvert_exporter": "python",
   "pygments_lexer": "ipython3",
   "version": "3.7.6"
  }
 },
 "nbformat": 4,
 "nbformat_minor": 4
}
