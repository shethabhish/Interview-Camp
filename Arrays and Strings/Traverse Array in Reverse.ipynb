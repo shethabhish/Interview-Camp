{
 "cells": [
  {
   "cell_type": "code",
   "execution_count": 1,
   "metadata": {},
   "outputs": [],
   "source": [
    "def reverse_traverse(arr):\n",
    "    if len(arr) == 0:\n",
    "        return arr\n",
    "    end,lastind = len(arr)-1,findlast(arr)\n",
    "    while lastind >=0:\n",
    "        if arr[lastind] % 2 == 0:\n",
    "            arr[end] = arr[lastind]\n",
    "            end -= 1\n",
    "        arr[end] = arr[lastind]\n",
    "        end -= 1\n",
    "        lastind -= 1\n",
    "    return arr"
   ]
  },
  {
   "cell_type": "code",
   "execution_count": 2,
   "metadata": {},
   "outputs": [],
   "source": [
    "def findlast(arr):\n",
    "    for i in range(len(arr)-1,-1,-1):\n",
    "        if arr[i] != -1:\n",
    "            return i"
   ]
  },
  {
   "cell_type": "code",
   "execution_count": 3,
   "metadata": {},
   "outputs": [
    {
     "data": {
      "text/plain": [
       "[2, 2, 4, 4, 1, 0, 0, 3]"
      ]
     },
     "execution_count": 3,
     "metadata": {},
     "output_type": "execute_result"
    }
   ],
   "source": [
    "reverse_traverse([2,4,1,0,3,-1,-1,-1])"
   ]
  }
 ],
 "metadata": {
  "kernelspec": {
   "display_name": "Python 3",
   "language": "python",
   "name": "python3"
  },
  "language_info": {
   "codemirror_mode": {
    "name": "ipython",
    "version": 3
   },
   "file_extension": ".py",
   "mimetype": "text/x-python",
   "name": "python",
   "nbconvert_exporter": "python",
   "pygments_lexer": "ipython3",
   "version": "3.7.6"
  }
 },
 "nbformat": 4,
 "nbformat_minor": 4
}
