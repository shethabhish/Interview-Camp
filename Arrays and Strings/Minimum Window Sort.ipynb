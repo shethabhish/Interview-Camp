{
 "cells": [
  {
   "cell_type": "code",
   "execution_count": 1,
   "metadata": {},
   "outputs": [],
   "source": [
    "import math\n",
    "def min_sort(arr):\n",
    "    low,high = 0,len(arr)-1\n",
    "    while low < len(arr)-1 and arr[low] <= arr[low+1]:\n",
    "        low += 1\n",
    "    if low == high:\n",
    "        return arr\n",
    "    while high>0 and arr[high] >= arr[high-1]:\n",
    "        high -= 1\n",
    "    mini,maxi = math.inf,-math.inf\n",
    "    for i in range(low,high+1):\n",
    "        mini = min(arr[i],mini)\n",
    "        maxi = max(arr[i],maxi)\n",
    "    while low > 0 and arr[low-1] > mini:\n",
    "        low -= 1\n",
    "    while high < len(arr) and arr[high+1] < maxi:\n",
    "        high += 1\n",
    "    return arr[low:high+1]"
   ]
  },
  {
   "cell_type": "code",
   "execution_count": 2,
   "metadata": {},
   "outputs": [
    {
     "data": {
      "text/plain": [
       "[2, 3, 1, 8, 6]"
      ]
     },
     "execution_count": 2,
     "metadata": {},
     "output_type": "execute_result"
    }
   ],
   "source": [
    "min_sort([0,2,3,1,8,6,9])"
   ]
  }
 ],
 "metadata": {
  "kernelspec": {
   "display_name": "Python 3",
   "language": "python",
   "name": "python3"
  },
  "language_info": {
   "codemirror_mode": {
    "name": "ipython",
    "version": 3
   },
   "file_extension": ".py",
   "mimetype": "text/x-python",
   "name": "python",
   "nbconvert_exporter": "python",
   "pygments_lexer": "ipython3",
   "version": "3.7.6"
  }
 },
 "nbformat": 4,
 "nbformat_minor": 4
}
