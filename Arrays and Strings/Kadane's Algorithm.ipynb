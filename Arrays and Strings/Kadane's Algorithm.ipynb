{
 "cells": [
  {
   "cell_type": "code",
   "execution_count": 1,
   "metadata": {},
   "outputs": [],
   "source": [
    "def max_sub(arr):\n",
    "    if len(arr) == 0:\n",
    "        return None\n",
    "    result,currentmax,end = arr[0],arr[0],0\n",
    "    for i in range(1,len(arr)):\n",
    "        currentmax = max(arr[i], arr[i]+currentmax)\n",
    "        if currentmax > result:\n",
    "            result = currentmax\n",
    "            end = i\n",
    "    total = arr[end]\n",
    "    for i in reversed(range(0,end)):\n",
    "        total += arr[i]\n",
    "        if total == result:\n",
    "            return arr[i:end+1]"
   ]
  },
  {
   "cell_type": "code",
   "execution_count": 2,
   "metadata": {},
   "outputs": [
    {
     "data": {
      "text/plain": [
       "[4, -1, -2, 1, 5]"
      ]
     },
     "execution_count": 2,
     "metadata": {},
     "output_type": "execute_result"
    }
   ],
   "source": [
    "max_sub([-2,-3,4,-1,-2,1,5,-1])"
   ]
  }
 ],
 "metadata": {
  "kernelspec": {
   "display_name": "Python 3",
   "language": "python",
   "name": "python3"
  },
  "language_info": {
   "codemirror_mode": {
    "name": "ipython",
    "version": 3
   },
   "file_extension": ".py",
   "mimetype": "text/x-python",
   "name": "python",
   "nbconvert_exporter": "python",
   "pygments_lexer": "ipython3",
   "version": "3.7.6"
  }
 },
 "nbformat": 4,
 "nbformat_minor": 4
}
