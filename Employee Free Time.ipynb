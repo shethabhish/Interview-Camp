{
 "cells": [
  {
   "cell_type": "code",
   "execution_count": 1,
   "metadata": {},
   "outputs": [],
   "source": [
    "def employee_free_time(schedules):\n",
    "    intervals = []\n",
    "    for schedule in schedules:\n",
    "        for time in schedule:\n",
    "            intervals.append(time)\n",
    "    intervals.sort(key=lambda x:x[0])\n",
    "    result = []\n",
    "    i = 1\n",
    "    while i < len(intervals):\n",
    "        if intervals[i-1][1] < intervals[i][0]:\n",
    "            result.append([intervals[i-1][1],intervals[i][0]])\n",
    "        i += 1\n",
    "    return result"
   ]
  },
  {
   "cell_type": "code",
   "execution_count": 2,
   "metadata": {},
   "outputs": [
    {
     "data": {
      "text/plain": [
       "[[4, 6], [8, 9]]"
      ]
     },
     "execution_count": 2,
     "metadata": {},
     "output_type": "execute_result"
    }
   ],
   "source": [
    "employee_free_time([[[1,3], [9,12]], [[2,4]], [[6,8]]])"
   ]
  }
 ],
 "metadata": {
  "kernelspec": {
   "display_name": "Python 3",
   "language": "python",
   "name": "python3"
  },
  "language_info": {
   "codemirror_mode": {
    "name": "ipython",
    "version": 3
   },
   "file_extension": ".py",
   "mimetype": "text/x-python",
   "name": "python",
   "nbconvert_exporter": "python",
   "pygments_lexer": "ipython3",
   "version": "3.7.6"
  }
 },
 "nbformat": 4,
 "nbformat_minor": 4
}
