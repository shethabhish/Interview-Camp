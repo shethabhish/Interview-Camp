{
 "cells": [
  {
   "cell_type": "code",
   "execution_count": 1,
   "metadata": {},
   "outputs": [],
   "source": [
    "class Stack:\n",
    "    def __init__(self):\n",
    "        self.arr = []\n",
    "    def push(self,num):\n",
    "        self.arr.append(num)\n",
    "    def pop(self):\n",
    "        return self.arr.pop()\n",
    "    def peek(self):\n",
    "        return self.arr[-1]\n",
    "    def empty(self):\n",
    "        return self.arr == []"
   ]
  },
  {
   "cell_type": "code",
   "execution_count": 2,
   "metadata": {},
   "outputs": [],
   "source": [
    "def evaluate(expression):\n",
    "    if len(expression) == 0:\n",
    "        return 0\n",
    "    st1,st2 = Stack(),Stack()\n",
    "    for i in expression:\n",
    "        if i.isdigit():\n",
    "            st1.push(int(i))\n",
    "        else:\n",
    "            while (not st2.empty() and precendence(st2.peek()) >= precendence(i)):\n",
    "                process(st1,st2)\n",
    "            st2.push(i)\n",
    "    while not st2.empty():\n",
    "        process(st1,st2)\n",
    "    return st1.pop()"
   ]
  },
  {
   "cell_type": "code",
   "execution_count": 3,
   "metadata": {},
   "outputs": [],
   "source": [
    "def process(st1,st2):\n",
    "    num2,num1 = st1.pop(),st1.pop()\n",
    "    op = st2.pop()\n",
    "    if op == '+':\n",
    "        st1.push(num1+num2)\n",
    "    elif op == '-':\n",
    "        st1.push(num1-num2)\n",
    "    elif op == '*':\n",
    "        st1.push(num1*num2)\n",
    "    else:\n",
    "        st1.push(num1/num2)"
   ]
  },
  {
   "cell_type": "code",
   "execution_count": 4,
   "metadata": {},
   "outputs": [],
   "source": [
    "def precendence(op):\n",
    "    if op == '*' or op == '/':\n",
    "        return 2\n",
    "    elif op == '+' or op == '-':\n",
    "        return 1"
   ]
  },
  {
   "cell_type": "code",
   "execution_count": 5,
   "metadata": {},
   "outputs": [
    {
     "data": {
      "text/plain": [
       "9.0"
      ]
     },
     "execution_count": 5,
     "metadata": {},
     "output_type": "execute_result"
    }
   ],
   "source": [
    "evaluate('1+2/1+3*2')"
   ]
  }
 ],
 "metadata": {
  "kernelspec": {
   "display_name": "Python 3",
   "language": "python",
   "name": "python3"
  },
  "language_info": {
   "codemirror_mode": {
    "name": "ipython",
    "version": 3
   },
   "file_extension": ".py",
   "mimetype": "text/x-python",
   "name": "python",
   "nbconvert_exporter": "python",
   "pygments_lexer": "ipython3",
   "version": "3.7.6"
  }
 },
 "nbformat": 4,
 "nbformat_minor": 4
}
