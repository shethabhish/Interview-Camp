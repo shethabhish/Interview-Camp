{
 "cells": [
  {
   "cell_type": "code",
   "execution_count": 1,
   "metadata": {},
   "outputs": [],
   "source": [
    "class Stack:\n",
    "    def __init__(self):\n",
    "        self.s1 = []\n",
    "    def push(self,num,ind):\n",
    "        if ind == 0:\n",
    "            self.s1.insert(0,num)\n",
    "        elif ind == 1:\n",
    "            self.s1.append(num)\n",
    "    def pop(self,ind):\n",
    "        if ind == 0:\n",
    "            return self.s1.pop(0)\n",
    "        elif ind == 1:\n",
    "            return self.s1.pop()\n",
    "        return temp\n",
    "    def peek(self):\n",
    "        return self.arr[-1]\n",
    "    def empty(self):\n",
    "        return len(self.arr) == 0"
   ]
  },
  {
   "cell_type": "code",
   "execution_count": 2,
   "metadata": {},
   "outputs": [],
   "source": [
    "st = Stack()\n",
    "st.push(1,0)\n",
    "st.push(2,0)\n",
    "st.push(3,0)\n",
    "st.push(4,1)\n",
    "st.push(5,1)\n",
    "st.push(6,1)"
   ]
  },
  {
   "cell_type": "code",
   "execution_count": 3,
   "metadata": {},
   "outputs": [
    {
     "data": {
      "text/plain": [
       "3"
      ]
     },
     "execution_count": 3,
     "metadata": {},
     "output_type": "execute_result"
    }
   ],
   "source": [
    "st.pop(0)"
   ]
  },
  {
   "cell_type": "code",
   "execution_count": 4,
   "metadata": {},
   "outputs": [
    {
     "data": {
      "text/plain": [
       "6"
      ]
     },
     "execution_count": 4,
     "metadata": {},
     "output_type": "execute_result"
    }
   ],
   "source": [
    "st.pop(1)"
   ]
  }
 ],
 "metadata": {
  "kernelspec": {
   "display_name": "Python 3",
   "language": "python",
   "name": "python3"
  },
  "language_info": {
   "codemirror_mode": {
    "name": "ipython",
    "version": 3
   },
   "file_extension": ".py",
   "mimetype": "text/x-python",
   "name": "python",
   "nbconvert_exporter": "python",
   "pygments_lexer": "ipython3",
   "version": "3.7.6"
  }
 },
 "nbformat": 4,
 "nbformat_minor": 4
}
