{
 "cells": [
  {
   "cell_type": "code",
   "execution_count": 1,
   "metadata": {},
   "outputs": [],
   "source": [
    "def zigzag(arr):\n",
    "    row,col,up = 0,0,True\n",
    "    if len(arr) <= 1 or len(arr[0]) <= 1:\n",
    "        return str(arr)\n",
    "    while True:\n",
    "        print(arr[row][col])\n",
    "        if row == 0 or row == len(arr)-1 and col != len(arr[0])-1:\n",
    "            col += 1\n",
    "            print(arr[row][col])\n",
    "            up = not up\n",
    "        elif col == 0 or col == len(arr)-1:        \n",
    "            row += 1\n",
    "            print(arr[row][col])\n",
    "            up = not up\n",
    "        if row == len(arr)-1 and col == len(arr)-1:\n",
    "            break\n",
    "        if up:\n",
    "            row -= 1\n",
    "            col += 1\n",
    "        else:\n",
    "            row += 1\n",
    "            col -= 1"
   ]
  },
  {
   "cell_type": "code",
   "execution_count": 2,
   "metadata": {},
   "outputs": [
    {
     "name": "stdout",
     "output_type": "stream",
     "text": [
      "1\n",
      "2\n",
      "5\n",
      "9\n",
      "6\n",
      "3\n",
      "4\n",
      "7\n",
      "1\n"
     ]
    }
   ],
   "source": [
    "zigzag([[1,2,3,4],[5,6,7,8],[9,0,1,2]])"
   ]
  }
 ],
 "metadata": {
  "kernelspec": {
   "display_name": "Python 3",
   "language": "python",
   "name": "python3"
  },
  "language_info": {
   "codemirror_mode": {
    "name": "ipython",
    "version": 3
   },
   "file_extension": ".py",
   "mimetype": "text/x-python",
   "name": "python",
   "nbconvert_exporter": "python",
   "pygments_lexer": "ipython3",
   "version": "3.7.6"
  }
 },
 "nbformat": 4,
 "nbformat_minor": 4
}
