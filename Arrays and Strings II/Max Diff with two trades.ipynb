{
 "cells": [
  {
   "cell_type": "code",
   "execution_count": 1,
   "metadata": {},
   "outputs": [],
   "source": [
    "import math\n",
    "def two_trades(arr):\n",
    "    if len(arr) == 0 or len(arr) < 2:\n",
    "        return 0\n",
    "    maxdiff,mini = 0, math.inf\n",
    "    bestdiff,bestfrom = [0]*len(arr),[0]*len(arr)\n",
    "    for i in range(len(arr)):\n",
    "        mini = min(mini,arr[i])\n",
    "        maxdiff = max(maxdiff,arr[i]-mini)\n",
    "        bestdiff[i] = maxdiff\n",
    "    maxi,maxdiff = -math.inf,0\n",
    "    for i in range(len(arr)-1,-1,-1):\n",
    "        maxi = max(maxi,arr[i])\n",
    "        maxdiff = max(maxdiff,maxi-arr[i])\n",
    "        bestfrom[i] = maxdiff\n",
    "    maxtwo = 0\n",
    "    for i in range(len(arr)):\n",
    "        if i+1 < len(arr):\n",
    "            maxsecond =  bestfrom[i]\n",
    "        else:\n",
    "            maxsecond = 0\n",
    "        maxtwo = max(maxtwo,maxsecond+bestdiff[i])\n",
    "    return maxtwo"
   ]
  },
  {
   "cell_type": "code",
   "execution_count": 2,
   "metadata": {},
   "outputs": [
    {
     "data": {
      "text/plain": [
       "13"
      ]
     },
     "execution_count": 2,
     "metadata": {},
     "output_type": "execute_result"
    }
   ],
   "source": [
    "two_trades([8,14,2,5,7,3,9,5])"
   ]
  }
 ],
 "metadata": {
  "kernelspec": {
   "display_name": "Python 3",
   "language": "python",
   "name": "python3"
  },
  "language_info": {
   "codemirror_mode": {
    "name": "ipython",
    "version": 3
   },
   "file_extension": ".py",
   "mimetype": "text/x-python",
   "name": "python",
   "nbconvert_exporter": "python",
   "pygments_lexer": "ipython3",
   "version": "3.7.6"
  }
 },
 "nbformat": 4,
 "nbformat_minor": 4
}
