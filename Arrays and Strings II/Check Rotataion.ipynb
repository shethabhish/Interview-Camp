{
 "cells": [
  {
   "cell_type": "code",
   "execution_count": 1,
   "metadata": {},
   "outputs": [],
   "source": [
    "def rotation(s1,s2):\n",
    "    if len(s1) != len(s2):\n",
    "        return False\n",
    "    if s1 == s2:\n",
    "        return True\n",
    "    temp = s2[0]\n",
    "    st1,st2 = 0,0\n",
    "    for i in s1:\n",
    "        if i != temp:\n",
    "            st1 += 1\n",
    "        else:\n",
    "            break\n",
    "    while st1 < len(s1):\n",
    "        if s1[st1] != s2[st2]:\n",
    "            return False\n",
    "        else:\n",
    "            st1 += 1\n",
    "            st2 += 1\n",
    "    i = 0 \n",
    "    while st2 < len(s2):\n",
    "        if s2[st2] == s1[i]:\n",
    "            st2 += 1\n",
    "            i += 1\n",
    "        else:\n",
    "            return False\n",
    "    return st1 == st2"
   ]
  },
  {
   "cell_type": "code",
   "execution_count": 2,
   "metadata": {},
   "outputs": [
    {
     "data": {
      "text/plain": [
       "True"
      ]
     },
     "execution_count": 2,
     "metadata": {},
     "output_type": "execute_result"
    }
   ],
   "source": [
    "rotation(\"atbobc\",\"bobcat\")"
   ]
  },
  {
   "cell_type": "code",
   "execution_count": 3,
   "metadata": {},
   "outputs": [],
   "source": [
    "def rotation(s1,s2):\n",
    "    temp  = s2 + s2\n",
    "    return s1 in temp"
   ]
  },
  {
   "cell_type": "code",
   "execution_count": 4,
   "metadata": {},
   "outputs": [
    {
     "data": {
      "text/plain": [
       "True"
      ]
     },
     "execution_count": 4,
     "metadata": {},
     "output_type": "execute_result"
    }
   ],
   "source": [
    "rotation(\"atbobc\",\"bobcat\")"
   ]
  }
 ],
 "metadata": {
  "kernelspec": {
   "display_name": "Python 3",
   "language": "python",
   "name": "python3"
  },
  "language_info": {
   "codemirror_mode": {
    "name": "ipython",
    "version": 3
   },
   "file_extension": ".py",
   "mimetype": "text/x-python",
   "name": "python",
   "nbconvert_exporter": "python",
   "pygments_lexer": "ipython3",
   "version": "3.7.6"
  }
 },
 "nbformat": 4,
 "nbformat_minor": 4
}
