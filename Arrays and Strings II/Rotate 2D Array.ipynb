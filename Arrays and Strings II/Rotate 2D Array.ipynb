{
 "cells": [
  {
   "cell_type": "code",
   "execution_count": 1,
   "metadata": {},
   "outputs": [],
   "source": [
    "def rotate_array(arr):\n",
    "    if len(arr) == 0 or len(arr) != len(arr[0]):\n",
    "        return\n",
    "    for i in range(len(arr)//2):\n",
    "        rotate(arr,i,len(arr)-1-i)\n",
    "    return arr"
   ]
  },
  {
   "cell_type": "code",
   "execution_count": 2,
   "metadata": {},
   "outputs": [],
   "source": [
    "def rotate(arr,start,end):\n",
    "    for current in range(end):\n",
    "        temp = arr[start][start+current]\n",
    "        arr[start][start+current] = arr[end-current][start]\n",
    "        arr[end-current][start] = arr[end][end-current]\n",
    "        arr[end][end-current] = arr[start+current][end]\n",
    "        arr[start+current][end] = temp"
   ]
  },
  {
   "cell_type": "code",
   "execution_count": 3,
   "metadata": {},
   "outputs": [
    {
     "data": {
      "text/plain": [
       "[[7, 4, 1], [8, 5, 2], [9, 6, 3]]"
      ]
     },
     "execution_count": 3,
     "metadata": {},
     "output_type": "execute_result"
    }
   ],
   "source": [
    "rotate_array([[1,2,3],[4,5,6],[7,8,9]])"
   ]
  }
 ],
 "metadata": {
  "kernelspec": {
   "display_name": "Python 3",
   "language": "python",
   "name": "python3"
  },
  "language_info": {
   "codemirror_mode": {
    "name": "ipython",
    "version": 3
   },
   "file_extension": ".py",
   "mimetype": "text/x-python",
   "name": "python",
   "nbconvert_exporter": "python",
   "pygments_lexer": "ipython3",
   "version": "3.7.6"
  }
 },
 "nbformat": 4,
 "nbformat_minor": 4
}
