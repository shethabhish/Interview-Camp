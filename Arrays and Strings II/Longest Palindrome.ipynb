{
 "cells": [
  {
   "cell_type": "code",
   "execution_count": 1,
   "metadata": {},
   "outputs": [],
   "source": [
    "def longestpalindrome(s):\n",
    "    if len(s) == 0:\n",
    "        return None\n",
    "    longest,result = 1,[0,0]\n",
    "    for i in range(len(s)):\n",
    "        offset = 0\n",
    "        while valid(s,i-1-offset) and valid(s,i+1+offset) and s[i-1-offset] == s[i+1+offset]:\n",
    "            offset += 1\n",
    "        maxi = offset*2+1\n",
    "        if maxi > longest:\n",
    "            longest = maxi\n",
    "            result[0],result[1] = i-offset,i+offset\n",
    "    for i in range(len(s)):\n",
    "        offset = 0\n",
    "        while valid(s,i-offset) and valid(s,i+1+offset) and s[i-offset] == s[i+1+offset]:\n",
    "            offset += 1\n",
    "        maxi = offset*2\n",
    "        if maxi > longest:\n",
    "            longest = maxi\n",
    "            result[0],result[1] = i-offset+1,i+offset+1\n",
    "    return s[result[0]:result[1]]\n",
    "def valid(s,i):\n",
    "    return i >= 0 and i < len(s)"
   ]
  },
  {
   "cell_type": "code",
   "execution_count": 2,
   "metadata": {},
   "outputs": [
    {
     "data": {
      "text/plain": [
       "'baab'"
      ]
     },
     "execution_count": 2,
     "metadata": {},
     "output_type": "execute_result"
    }
   ],
   "source": [
    "longestpalindrome(\"xybaabop\")"
   ]
  }
 ],
 "metadata": {
  "kernelspec": {
   "display_name": "Python 3",
   "language": "python",
   "name": "python3"
  },
  "language_info": {
   "codemirror_mode": {
    "name": "ipython",
    "version": 3
   },
   "file_extension": ".py",
   "mimetype": "text/x-python",
   "name": "python",
   "nbconvert_exporter": "python",
   "pygments_lexer": "ipython3",
   "version": "3.7.6"
  }
 },
 "nbformat": 4,
 "nbformat_minor": 4
}
